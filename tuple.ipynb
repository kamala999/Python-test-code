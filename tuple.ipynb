{
  "nbformat": 4,
  "nbformat_minor": 0,
  "metadata": {
    "colab": {
      "provenance": [],
      "authorship_tag": "ABX9TyMOr7nASHlQruYQkRLBMUbU",
      "include_colab_link": true
    },
    "kernelspec": {
      "name": "python3",
      "display_name": "Python 3"
    },
    "language_info": {
      "name": "python"
    }
  },
  "cells": [
    {
      "cell_type": "markdown",
      "metadata": {
        "id": "view-in-github",
        "colab_type": "text"
      },
      "source": [
        "<a href=\"https://colab.research.google.com/github/kamala999/Python-test-code/blob/main/tuple.ipynb\" target=\"_parent\"><img src=\"https://colab.research.google.com/assets/colab-badge.svg\" alt=\"Open In Colab\"/></a>"
      ]
    },
    {
      "cell_type": "code",
      "execution_count": 2,
      "metadata": {
        "colab": {
          "base_uri": "https://localhost:8080/"
        },
        "id": "pukcY4jps773",
        "outputId": "012f43ef-eed7-4f35-ecf6-15e46cc5b70e"
      },
      "outputs": [
        {
          "output_type": "stream",
          "name": "stdout",
          "text": [
            "('hi', 'hello', 'how')\n",
            "<class 'tuple'>\n"
          ]
        }
      ],
      "source": [
        "#create tuple\n",
        "tu = (\"hi\", \"hello\", \"how\")\n",
        "print(tu)\n",
        "print(type(tu))"
      ]
    },
    {
      "cell_type": "code",
      "source": [
        "#create hetro tuple\n",
        "t2 = (\"hi\", 59, 24, 56.6, \"kill\")\n",
        "print(t2)"
      ],
      "metadata": {
        "colab": {
          "base_uri": "https://localhost:8080/"
        },
        "id": "XN8s-yaRufnL",
        "outputId": "4456413b-b662-48f1-80ef-8dd576e422d9"
      },
      "execution_count": 3,
      "outputs": [
        {
          "output_type": "stream",
          "name": "stdout",
          "text": [
            "('hi', 59, 24, 56.6, 'kill')\n"
          ]
        }
      ]
    },
    {
      "cell_type": "code",
      "source": [],
      "metadata": {
        "id": "GMqubqfMvA-b"
      },
      "execution_count": null,
      "outputs": []
    },
    {
      "cell_type": "code",
      "source": [
        "#using sort in list\n",
        "t2 = [12,34,18,16,28,25]\n",
        "t2.sort()\n",
        "print(t2)\n"
      ],
      "metadata": {
        "colab": {
          "base_uri": "https://localhost:8080/"
        },
        "id": "dW5Cvq2tvBBV",
        "outputId": "5e4ec6d5-cb15-4f74-e347-71023cab28df"
      },
      "execution_count": 13,
      "outputs": [
        {
          "output_type": "stream",
          "name": "stdout",
          "text": [
            "[12, 16, 18, 25, 28, 34]\n"
          ]
        }
      ]
    },
    {
      "cell_type": "code",
      "source": [
        "#using sort in tuple hear use list for [] and tuple use for ()\n",
        "\n",
        "t2 = (12,34,18,16,28,25)\n",
        "t3 = sorted(t2)\n",
        "print(t2)\n",
        "print(type(t2))\n",
        "print(t3)\n",
        "print(type(t3))"
      ],
      "metadata": {
        "colab": {
          "base_uri": "https://localhost:8080/"
        },
        "id": "71KyjaFpxNvR",
        "outputId": "3e0e1924-2084-43fc-ea6a-3b899954e6fa"
      },
      "execution_count": 14,
      "outputs": [
        {
          "output_type": "stream",
          "name": "stdout",
          "text": [
            "(12, 34, 18, 16, 28, 25)\n",
            "<class 'tuple'>\n",
            "[12, 16, 18, 25, 28, 34]\n",
            "<class 'list'>\n"
          ]
        }
      ]
    },
    {
      "cell_type": "code",
      "source": [],
      "metadata": {
        "id": "ziniYesM-3R7"
      },
      "execution_count": null,
      "outputs": []
    },
    {
      "cell_type": "code",
      "source": [
        "#reverse sorting\n",
        "t2 = (12,34,18,16,28,25)\n",
        "t3 = sorted(t2,reverse = True)\n",
        "print(t2)\n",
        "print(type(t2))\n",
        "print(t3)\n",
        "print(type(t3))"
      ],
      "metadata": {
        "colab": {
          "base_uri": "https://localhost:8080/"
        },
        "id": "Xgx0wRxy0Rve",
        "outputId": "092b6465-89a5-474e-d3dd-f41f4ff2a531"
      },
      "execution_count": 15,
      "outputs": [
        {
          "output_type": "stream",
          "name": "stdout",
          "text": [
            "(12, 34, 18, 16, 28, 25)\n",
            "<class 'tuple'>\n",
            "[34, 28, 25, 18, 16, 12]\n",
            "<class 'list'>\n"
          ]
        }
      ]
    },
    {
      "cell_type": "code",
      "source": [
        "#repeating a tuple\n",
        "tu = (\"hi\", \"hello\", \"how\")\n",
        "tu2 = tu*2\n",
        "print(tu2)"
      ],
      "metadata": {
        "colab": {
          "base_uri": "https://localhost:8080/"
        },
        "id": "ntmS7Xqw1k4M",
        "outputId": "a1c1385d-4aa5-4195-ebfc-c11647ba86e0"
      },
      "execution_count": 16,
      "outputs": [
        {
          "output_type": "stream",
          "name": "stdout",
          "text": [
            "('hi', 'hello', 'how', 'hi', 'hello', 'how')\n"
          ]
        }
      ]
    },
    {
      "cell_type": "code",
      "source": [
        "# concatenating means adding two tuples are list togather\n",
        "tu = (\"hi\", \"hello\", \"how\")\n",
        "t2 = (\"hi\", 59, 24, 56.6, \"kill\")\n",
        "t4 = (tu+t2)\n",
        "print(t4)"
      ],
      "metadata": {
        "colab": {
          "base_uri": "https://localhost:8080/"
        },
        "id": "X5BbI-Dh2S6u",
        "outputId": "47a331fa-cefc-4ffe-e142-13894de2ccbf"
      },
      "execution_count": 18,
      "outputs": [
        {
          "output_type": "stream",
          "name": "stdout",
          "text": [
            "('hi', 'hello', 'how', 'hi', 59, 24, 56.6, 'kill')\n"
          ]
        }
      ]
    },
    {
      "cell_type": "code",
      "source": [
        "#membership operater\n",
        "print(t4)\n",
        "print(55 in t4)\n",
        "print(\"how\" in t4)\n",
        "print(59 not in t4)\n",
        "print(\"kill\" not in t4)\n",
        "\n"
      ],
      "metadata": {
        "colab": {
          "base_uri": "https://localhost:8080/"
        },
        "id": "S-z82X5F3nI8",
        "outputId": "7a840733-a51c-474c-f5aa-f8e6ad9a9cb9"
      },
      "execution_count": 20,
      "outputs": [
        {
          "output_type": "stream",
          "name": "stdout",
          "text": [
            "('hi', 'hello', 'how', 'hi', 59, 24, 56.6, 'kill')\n",
            "False\n",
            "True\n",
            "False\n",
            "False\n"
          ]
        }
      ]
    },
    {
      "cell_type": "code",
      "source": [
        "#itteration\n",
        "for i in t4:\n",
        "  print(i, \"eliment\")"
      ],
      "metadata": {
        "colab": {
          "base_uri": "https://localhost:8080/"
        },
        "id": "3K6xUAdR9Azy",
        "outputId": "67641a59-c962-4ed9-ec33-5ae254d9de74"
      },
      "execution_count": 25,
      "outputs": [
        {
          "output_type": "stream",
          "name": "stdout",
          "text": [
            "hi eliment\n",
            "hello eliment\n",
            "how eliment\n",
            "hi eliment\n",
            "59 eliment\n",
            "24 eliment\n",
            "56.6 eliment\n",
            "kill eliment\n"
          ]
        }
      ]
    },
    {
      "cell_type": "code",
      "source": [
        "#access\n",
        "print(t4[4])"
      ],
      "metadata": {
        "colab": {
          "base_uri": "https://localhost:8080/"
        },
        "id": "riydHGFB-CJP",
        "outputId": "37b96fc5-0a4e-4e66-fff8-2f18b3723ff4"
      },
      "execution_count": 26,
      "outputs": [
        {
          "output_type": "stream",
          "name": "stdout",
          "text": [
            "59\n"
          ]
        }
      ]
    },
    {
      "cell_type": "code",
      "source": [
        "#checking lenght\n",
        "print(len(t4))"
      ],
      "metadata": {
        "colab": {
          "base_uri": "https://localhost:8080/"
        },
        "id": "jyYG2lq1-QI1",
        "outputId": "96ee3766-8972-4989-d0c7-9ec0bb241860"
      },
      "execution_count": 27,
      "outputs": [
        {
          "output_type": "stream",
          "name": "stdout",
          "text": [
            "8\n"
          ]
        }
      ]
    },
    {
      "cell_type": "code",
      "source": [
        "t2 = (12,34,18,16,28,25,50.5)\n",
        "print(len(t2))\n",
        "print(max(t2))\n",
        "print(min(t2))"
      ],
      "metadata": {
        "colab": {
          "base_uri": "https://localhost:8080/"
        },
        "id": "EBHIIJi6-92m",
        "outputId": "da5ca536-27ae-4b92-80b8-b70d7067e714"
      },
      "execution_count": 29,
      "outputs": [
        {
          "output_type": "stream",
          "name": "stdout",
          "text": [
            "7\n",
            "50.5\n",
            "12\n"
          ]
        }
      ]
    },
    {
      "cell_type": "code",
      "source": [
        "#create and access a list inside tuple\n",
        "tl = (5,15,[\"kamal\",\"hasan\",\"book\"],25,35)\n",
        "#0 = 5,\n",
        "#1=15\n",
        "#3 1=this, 2=is, 3=book\n",
        "#4=25\n",
        "#5=35\n",
        "#i want add few strings in this tuple using\n",
        "print(tl)\n",
        "print(tl[3])\n",
        "print(tl[2][1])\n",
        "ta = (tl[2].append(\"sura\"))\n",
        "print(tl)"
      ],
      "metadata": {
        "colab": {
          "base_uri": "https://localhost:8080/"
        },
        "id": "H8b0j6oXEnwo",
        "outputId": "3acc7ffd-14ad-47fa-b8de-950230d97ec6"
      },
      "execution_count": 47,
      "outputs": [
        {
          "output_type": "stream",
          "name": "stdout",
          "text": [
            "(5, 15, ['kamal', 'hasan', 'book'], 25, 35)\n",
            "25\n",
            "hasan\n",
            "(5, 15, ['kamal', 'hasan', 'book', 'sura'], 25, 35)\n"
          ]
        }
      ]
    },
    {
      "cell_type": "code",
      "source": [
        "#tuple sliceing\n",
        "tl[0:4]"
      ],
      "metadata": {
        "colab": {
          "base_uri": "https://localhost:8080/"
        },
        "id": "6qCg6FgCavnu",
        "outputId": "a6569d9f-1495-4ef8-e3fe-e410fd29a128"
      },
      "execution_count": 51,
      "outputs": [
        {
          "output_type": "execute_result",
          "data": {
            "text/plain": [
              "(5, 15, ['kamal', 'hasan', 'book', 'sura'], 25)"
            ]
          },
          "metadata": {},
          "execution_count": 51
        }
      ]
    }
  ]
}