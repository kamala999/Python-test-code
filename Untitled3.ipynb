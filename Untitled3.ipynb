{
  "nbformat": 4,
  "nbformat_minor": 0,
  "metadata": {
    "colab": {
      "provenance": [],
      "authorship_tag": "ABX9TyM8S8ChPLCHgDxTwR78aa8C",
      "include_colab_link": true
    },
    "kernelspec": {
      "name": "python3",
      "display_name": "Python 3"
    },
    "language_info": {
      "name": "python"
    }
  },
  "cells": [
    {
      "cell_type": "markdown",
      "metadata": {
        "id": "view-in-github",
        "colab_type": "text"
      },
      "source": [
        "<a href=\"https://colab.research.google.com/github/kamala999/Python-test-code/blob/main/Untitled3.ipynb\" target=\"_parent\"><img src=\"https://colab.research.google.com/assets/colab-badge.svg\" alt=\"Open In Colab\"/></a>"
      ]
    },
    {
      "cell_type": "code",
      "source": [
        "#to divide and print to function s\n",
        "print(\"hello\",\"this is my book\", sep = \",\")\n",
        "\n",
        "#to divide with use tab function and print to function s\n",
        "print(\"hello\",\"this is my book\", sep = \"\\t\")\n",
        "\n",
        "# to divide two functions with new_line use backspace n like : \\n\n",
        "print(\"hello\")\n",
        "print(\"\\n\")\n",
        "print(\"this is my textbook\")"
      ],
      "metadata": {
        "colab": {
          "base_uri": "https://localhost:8080/"
        },
        "id": "uOPJwags4xh8",
        "outputId": "2acb2cac-ea90-424b-ee02-0e6494b8d0be"
      },
      "execution_count": 18,
      "outputs": [
        {
          "output_type": "stream",
          "name": "stdout",
          "text": [
            "hello,this is my book\n",
            "hello\tthis is my book\n",
            "hello\n",
            "\n",
            "\n",
            "this is my textbook\n"
          ]
        }
      ]
    }
  ]
}