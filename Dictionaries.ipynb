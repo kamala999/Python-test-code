{
  "nbformat": 4,
  "nbformat_minor": 0,
  "metadata": {
    "colab": {
      "provenance": [],
      "authorship_tag": "ABX9TyMEFLy9pYR04piBmueOAdoW",
      "include_colab_link": true
    },
    "kernelspec": {
      "name": "python3",
      "display_name": "Python 3"
    },
    "language_info": {
      "name": "python"
    }
  },
  "cells": [
    {
      "cell_type": "markdown",
      "metadata": {
        "id": "view-in-github",
        "colab_type": "text"
      },
      "source": [
        "<a href=\"https://colab.research.google.com/github/kamala999/Python-test-code/blob/main/Dictionaries.ipynb\" target=\"_parent\"><img src=\"https://colab.research.google.com/assets/colab-badge.svg\" alt=\"Open In Colab\"/></a>"
      ]
    },
    {
      "cell_type": "code",
      "execution_count": 1,
      "metadata": {
        "colab": {
          "base_uri": "https://localhost:8080/"
        },
        "id": "SUVs2vH0dDhP",
        "outputId": "a14969e8-fe51-4967-fd8a-6b3834a94a87"
      },
      "outputs": [
        {
          "output_type": "stream",
          "name": "stdout",
          "text": [
            "{'a1': 'kamal', 'a2': 'hasan', 'a3': 'reddy'}\n"
          ]
        }
      ],
      "source": [
        "#dictionories\n",
        "dict1 = {\"a1\":\"kamal\",\"a2\":\"hasan\",\"a3\":\"reddy\"}\n",
        "print(dict1)"
      ]
    },
    {
      "cell_type": "code",
      "source": [
        "#create dictionary and add the eliment for dictionry_name = value\n",
        "dict1[\"a4\"] = \"sura\"\n",
        "print(dict1)"
      ],
      "metadata": {
        "colab": {
          "base_uri": "https://localhost:8080/"
        },
        "id": "g_Vizk0EhLn-",
        "outputId": "0888d283-54e8-4c7f-c103-4435c81568df"
      },
      "execution_count": 3,
      "outputs": [
        {
          "output_type": "stream",
          "name": "stdout",
          "text": [
            "{'a1': 'kamal', 'a2': 'hasan', 'a3': 'reddy', 'a4': 'sura'}\n"
          ]
        }
      ]
    },
    {
      "cell_type": "code",
      "source": [
        "#deleteing an elimet in dictionry using universer function del dictnory_name[key]\n",
        "del dict1[\"a2\"]\n",
        "print(dict1)\n"
      ],
      "metadata": {
        "colab": {
          "base_uri": "https://localhost:8080/"
        },
        "id": "Af-xdLM5qC9c",
        "outputId": "cb19ae32-ae7b-437a-bf99-f019946b4cd8"
      },
      "execution_count": 4,
      "outputs": [
        {
          "output_type": "stream",
          "name": "stdout",
          "text": [
            "{'a1': 'kamal', 'a3': 'reddy', 'a4': 'sura'}\n"
          ]
        }
      ]
    },
    {
      "cell_type": "code",
      "source": [
        "#to know the lenght of dictionry\n",
        "len(dict1)"
      ],
      "metadata": {
        "colab": {
          "base_uri": "https://localhost:8080/"
        },
        "id": "PIjEhqewxgEi",
        "outputId": "6e1861a5-5fd0-4006-e857-e50919241994"
      },
      "execution_count": 6,
      "outputs": [
        {
          "output_type": "execute_result",
          "data": {
            "text/plain": [
              "3"
            ]
          },
          "metadata": {},
          "execution_count": 6
        }
      ]
    },
    {
      "cell_type": "code",
      "source": [
        "#nested dictionrys and acces those values\n",
        "dict2 = {\"cricket\":{\"kamal\":\"bowlwer\", \"vimal\":\"batsment\"}, \"chess\":{\"naresh\":\"level1\", \"madav\":\"level2\"}}\n",
        "print(dict2)\n",
        "print(dict2[\"cricket\"][\"kamal\"])\n"
      ],
      "metadata": {
        "colab": {
          "base_uri": "https://localhost:8080/"
        },
        "id": "uabl2hBuxxdr",
        "outputId": "98501be2-9492-4fa9-c01e-3fbcad9f1be2"
      },
      "execution_count": 13,
      "outputs": [
        {
          "output_type": "stream",
          "name": "stdout",
          "text": [
            "{'cricket': {'kamal': 'bowlwer', 'vimal': 'batsment'}, 'chess': {'naresh': 'level1', 'madav': 'level2'}}\n",
            "bowlwer\n"
          ]
        }
      ]
    },
    {
      "cell_type": "code",
      "source": [
        "#need to get only values and keys\n",
        "dict2 = {\"cricket\":{\"kamal\":\"bowlwer\", \"vimal\":\"batsment\"}, \"chess\":{\"naresh\":\"level1\", \"madav\":\"level2\"}}\n",
        "print(dict2)\n",
        "#print(dict2[\"cricket\"][\"kamal\"])\n",
        "print(dict2.keys())\n",
        "print(dict2.values())\n"
      ],
      "metadata": {
        "colab": {
          "base_uri": "https://localhost:8080/"
        },
        "id": "UfOr29LMHC7Q",
        "outputId": "3e3aaddc-9c6c-41df-9334-5cf1aac7a0f4"
      },
      "execution_count": 20,
      "outputs": [
        {
          "output_type": "stream",
          "name": "stdout",
          "text": [
            "{'cricket': {'kamal': 'bowlwer', 'vimal': 'batsment'}, 'chess': {'naresh': 'level1', 'madav': 'level2'}}\n",
            "dict_keys(['cricket', 'chess'])\n",
            "dict_values([{'kamal': 'bowlwer', 'vimal': 'batsment'}, {'naresh': 'level1', 'madav': 'level2'}])\n"
          ]
        }
      ]
    }
  ]
}