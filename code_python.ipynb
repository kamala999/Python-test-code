{
  "nbformat": 4,
  "nbformat_minor": 0,
  "metadata": {
    "colab": {
      "provenance": [],
      "authorship_tag": "ABX9TyPzyDohkWyJi1Z53044yy3W",
      "include_colab_link": true
    },
    "kernelspec": {
      "name": "python3",
      "display_name": "Python 3"
    },
    "language_info": {
      "name": "python"
    }
  },
  "cells": [
    {
      "cell_type": "markdown",
      "metadata": {
        "id": "view-in-github",
        "colab_type": "text"
      },
      "source": [
        "<a href=\"https://colab.research.google.com/github/kamala999/Python-test-code/blob/main/code_python.ipynb\" target=\"_parent\"><img src=\"https://colab.research.google.com/assets/colab-badge.svg\" alt=\"Open In Colab\"/></a>"
      ]
    },
    {
      "cell_type": "code",
      "execution_count": 27,
      "metadata": {
        "colab": {
          "base_uri": "https://localhost:8080/"
        },
        "id": "Na3lewjw-6Hn",
        "outputId": "f411683e-6e4f-406c-e455-cd679e97584f"
      },
      "outputs": [
        {
          "output_type": "stream",
          "name": "stdout",
          "text": [
            "35\n",
            "rajakumar age is 40\n",
            "nagaveni age is 24\n"
          ]
        }
      ],
      "source": [
        "\n",
        "#assigning the multiple values to multiple variables\n",
        "Kage, Rage, Nage = 35, 40, 24\n",
        "print(Kage)\n",
        "print(\"rajakumar age is\",Rage)\n",
        "print(\"nagaveni age is\",Nage)\n"
      ]
    }
  ]
}