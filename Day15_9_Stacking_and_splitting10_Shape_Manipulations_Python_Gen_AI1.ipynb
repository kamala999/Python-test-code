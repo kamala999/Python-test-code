{
  "nbformat": 4,
  "nbformat_minor": 0,
  "metadata": {
    "colab": {
      "provenance": [],
      "authorship_tag": "ABX9TyOO18JcVoZtdwV7/RcgHkrr",
      "include_colab_link": true
    },
    "kernelspec": {
      "name": "python3",
      "display_name": "Python 3"
    },
    "language_info": {
      "name": "python"
    }
  },
  "cells": [
    {
      "cell_type": "markdown",
      "metadata": {
        "id": "view-in-github",
        "colab_type": "text"
      },
      "source": [
        "<a href=\"https://colab.research.google.com/github/kamala999/Python-test-code/blob/main/Day15_9_Stacking_and_splitting10_Shape_Manipulations_Python_Gen_AI1.ipynb\" target=\"_parent\"><img src=\"https://colab.research.google.com/assets/colab-badge.svg\" alt=\"Open In Colab\"/></a>"
      ]
    },
    {
      "cell_type": "code",
      "execution_count": 1,
      "metadata": {
        "id": "T81NvU3Ezzpy"
      },
      "outputs": [],
      "source": [
        "import numpy as np"
      ]
    },
    {
      "cell_type": "code",
      "source": [
        "A = np.array([45,60,90])\n",
        "B = np.array([16,18,20])\n",
        "print(np.diff(A)) #60-45, 90 -60"
      ],
      "metadata": {
        "colab": {
          "base_uri": "https://localhost:8080/"
        },
        "id": "YCkuddU_0roE",
        "outputId": "073dcf5b-a956-4140-d8a8-9548c08c9b65"
      },
      "execution_count": 2,
      "outputs": [
        {
          "output_type": "stream",
          "name": "stdout",
          "text": [
            "[15 30]\n"
          ]
        }
      ]
    },
    {
      "cell_type": "code",
      "source": [
        "Balance = np.array([120,150,300])\n",
        "profits = np.diff(Balance)\n",
        "print(profits)"
      ],
      "metadata": {
        "colab": {
          "base_uri": "https://localhost:8080/"
        },
        "id": "qJ28nzh217pq",
        "outputId": "611cc215-03a6-4020-f26e-a3780ee23e80"
      },
      "execution_count": 3,
      "outputs": [
        {
          "output_type": "stream",
          "name": "stdout",
          "text": [
            "[ 30 150]\n"
          ]
        }
      ]
    },
    {
      "cell_type": "code",
      "source": [
        "#statastics\n",
        "A = np.array([23,54,34,45,49,41,61,77])\n",
        "print(np.mean(A))# Avarage"
      ],
      "metadata": {
        "colab": {
          "base_uri": "https://localhost:8080/"
        },
        "id": "Pqv6vxXW3FW7",
        "outputId": "119a62cb-6a66-4aac-ffe5-961ac52c93e2"
      },
      "execution_count": 4,
      "outputs": [
        {
          "output_type": "stream",
          "name": "stdout",
          "text": [
            "48.0\n"
          ]
        }
      ]
    },
    {
      "cell_type": "code",
      "source": [
        "A = np.array([23,54,34,45,49,41,61,77])\n",
        "print(np.median(A)) #23,34,41,45,49,54,61,77 # 45+49/2"
      ],
      "metadata": {
        "colab": {
          "base_uri": "https://localhost:8080/"
        },
        "id": "AuHZUUwy3nTl",
        "outputId": "58076549-64d0-40a0-ba2b-76429d9afa36"
      },
      "execution_count": 6,
      "outputs": [
        {
          "output_type": "stream",
          "name": "stdout",
          "text": [
            "47.0\n"
          ]
        }
      ]
    },
    {
      "cell_type": "code",
      "source": [
        "A = np.array([23,54,34,45,49,41,61,77])\n",
        "print(np.var(A))# variance"
      ],
      "metadata": {
        "colab": {
          "base_uri": "https://localhost:8080/"
        },
        "id": "gBMjv6jN6Lp8",
        "outputId": "a074fc0b-caed-41cc-c5a1-ca4e0f63a4fb"
      },
      "execution_count": 7,
      "outputs": [
        {
          "output_type": "stream",
          "name": "stdout",
          "text": [
            "240.75\n"
          ]
        }
      ]
    },
    {
      "cell_type": "code",
      "source": [
        "A = np.array([23,54,34,45,49,41,61,77])\n",
        "print(np.std(A))# standerd deviation"
      ],
      "metadata": {
        "colab": {
          "base_uri": "https://localhost:8080/"
        },
        "id": "JQFGDmyS6L3q",
        "outputId": "dd5f9df5-c2ea-439c-896b-bede36ecfd78"
      },
      "execution_count": 8,
      "outputs": [
        {
          "output_type": "stream",
          "name": "stdout",
          "text": [
            "15.5161206491829\n"
          ]
        }
      ]
    },
    {
      "cell_type": "code",
      "source": [
        "#trigunametory\n",
        "print(np.pi) # output ---radians"
      ],
      "metadata": {
        "colab": {
          "base_uri": "https://localhost:8080/"
        },
        "id": "7yLQavPq6gfI",
        "outputId": "c751b99c-46bb-41e1-b2ec-318d6aad39c8"
      },
      "execution_count": 9,
      "outputs": [
        {
          "output_type": "stream",
          "name": "stdout",
          "text": [
            "3.141592653589793\n"
          ]
        }
      ]
    },
    {
      "cell_type": "code",
      "source": [
        "print(np.rad2deg(np.pi))"
      ],
      "metadata": {
        "colab": {
          "base_uri": "https://localhost:8080/"
        },
        "id": "thJ3xpys7DzQ",
        "outputId": "cc4abba5-152b-4e8e-f878-c17705d613b8"
      },
      "execution_count": 10,
      "outputs": [
        {
          "output_type": "stream",
          "name": "stdout",
          "text": [
            "180.0\n"
          ]
        }
      ]
    },
    {
      "cell_type": "code",
      "source": [
        "val = np.array([np.pi/6, np.pi/4, np.pi/3, np.pi/2, np.pi])\n",
        "print(\"this output will be in Randiance\")\n",
        "print(val)# this output will be in Randiance\n",
        "print(\"convert this in degree s\")\n",
        "print(np.rad2deg(val))"
      ],
      "metadata": {
        "colab": {
          "base_uri": "https://localhost:8080/"
        },
        "id": "axIsyyRc71cA",
        "outputId": "00bc8039-66ae-4ab4-efcb-fd6c64406c13"
      },
      "execution_count": 15,
      "outputs": [
        {
          "output_type": "stream",
          "name": "stdout",
          "text": [
            "this output will be in Randiance\n",
            "[0.52359878 0.78539816 1.04719755 1.57079633 3.14159265]\n",
            "convert this in degree s\n",
            "[ 30.  45.  60.  90. 180.]\n"
          ]
        }
      ]
    },
    {
      "cell_type": "code",
      "source": [
        "rval = np.array([30,45,90,120,180])\n",
        "print(\"This all numbers are in degree s now conver into radiance\")\n",
        "print(np.deg2rad(rval))"
      ],
      "metadata": {
        "colab": {
          "base_uri": "https://localhost:8080/"
        },
        "id": "qsv8WhHt9lDW",
        "outputId": "ab61372e-5dc9-4d9e-fa58-7e0e07afdaa6"
      },
      "execution_count": 16,
      "outputs": [
        {
          "output_type": "stream",
          "name": "stdout",
          "text": [
            "This all numbers are in degree s now conver into radiance\n",
            "[0.52359878 0.78539816 1.57079633 2.0943951  3.14159265]\n"
          ]
        }
      ]
    },
    {
      "cell_type": "code",
      "source": [
        "print(np.sin(2))\n",
        "print(np.cos(2))\n",
        "print(np.tan(2))"
      ],
      "metadata": {
        "colab": {
          "base_uri": "https://localhost:8080/"
        },
        "id": "0XObkpSh-PrO",
        "outputId": "0024452c-2b68-4783-8f9f-d4cf8436f6a2"
      },
      "execution_count": 17,
      "outputs": [
        {
          "output_type": "stream",
          "name": "stdout",
          "text": [
            "0.9092974268256817\n",
            "-0.4161468365471424\n",
            "-2.185039863261519\n"
          ]
        }
      ]
    },
    {
      "cell_type": "code",
      "source": [
        "a = 8\n",
        "b = 6\n",
        "h = np.hypot(a,b)#hypoteunes\n",
        "print(h)"
      ],
      "metadata": {
        "colab": {
          "base_uri": "https://localhost:8080/"
        },
        "id": "5xMdgLNj2ahO",
        "outputId": "17ab25a2-6112-421b-d436-c6887f703017"
      },
      "execution_count": 19,
      "outputs": [
        {
          "output_type": "stream",
          "name": "stdout",
          "text": [
            "10.0\n"
          ]
        }
      ]
    },
    {
      "cell_type": "code",
      "source": [
        "#inverce\n",
        "print(np.arcsin(90))\n",
        "print(np.arccos(90))\n",
        "print(np.arctan(90))"
      ],
      "metadata": {
        "colab": {
          "base_uri": "https://localhost:8080/"
        },
        "id": "mn5HV_bJ-9Z7",
        "outputId": "64f001aa-4822-490d-a5e8-d75861577f54"
      },
      "execution_count": 18,
      "outputs": [
        {
          "output_type": "stream",
          "name": "stdout",
          "text": [
            "nan\n",
            "nan\n",
            "1.5596856728972892\n"
          ]
        },
        {
          "output_type": "stream",
          "name": "stderr",
          "text": [
            "<ipython-input-18-f5e6681c9203>:2: RuntimeWarning: invalid value encountered in arcsin\n",
            "  print(np.arcsin(90))\n",
            "<ipython-input-18-f5e6681c9203>:3: RuntimeWarning: invalid value encountered in arccos\n",
            "  print(np.arccos(90))\n"
          ]
        }
      ]
    },
    {
      "cell_type": "code",
      "source": [
        "A = np.array([45,60,90])\n",
        "B = np.array([16,18,20])\n",
        "print(np.union1d(A,B))"
      ],
      "metadata": {
        "colab": {
          "base_uri": "https://localhost:8080/"
        },
        "id": "GavFxxd3AT4A",
        "outputId": "f65a1042-f0b9-46d3-b34d-3fb73681a78c"
      },
      "execution_count": 25,
      "outputs": [
        {
          "output_type": "stream",
          "name": "stdout",
          "text": [
            "[16 18 20 45 60 90]\n"
          ]
        }
      ]
    },
    {
      "cell_type": "code",
      "source": [
        "A = np.array([12,45,60,90])\n",
        "B = np.array([16,18,12,20])\n",
        "print(np.intersect1d(A,B))# common values from a and b"
      ],
      "metadata": {
        "colab": {
          "base_uri": "https://localhost:8080/"
        },
        "id": "XafnoTIlBdey",
        "outputId": "d3c043dd-8f8d-45bb-f4d8-095b7222cb02"
      },
      "execution_count": 26,
      "outputs": [
        {
          "output_type": "stream",
          "name": "stdout",
          "text": [
            "[12]\n"
          ]
        }
      ]
    },
    {
      "cell_type": "code",
      "source": [
        "A = np.array([12,45,60,90])\n",
        "B = np.array([16,18,12,20])\n",
        "print(np.setdiff1d(A,B))"
      ],
      "metadata": {
        "colab": {
          "base_uri": "https://localhost:8080/"
        },
        "id": "U3pOXQvoB2bX",
        "outputId": "3b168064-1c4c-48c9-e8bb-d5e0e0ab8510"
      },
      "execution_count": 27,
      "outputs": [
        {
          "output_type": "stream",
          "name": "stdout",
          "text": [
            "[45 60 90]\n"
          ]
        }
      ]
    },
    {
      "cell_type": "code",
      "source": [
        "#joins it will multiply two arrays and add the totall\n",
        "A = np.array([1,3,4])\n",
        "B = np.array([4,2,5])\n",
        "print(np.inner(A,B))# 1*4+3*2+4*5=30\n"
      ],
      "metadata": {
        "colab": {
          "base_uri": "https://localhost:8080/"
        },
        "id": "XImZmCAsCC0_",
        "outputId": "06f56e48-52f8-44ef-aae0-0afd31a1619b"
      },
      "execution_count": 28,
      "outputs": [
        {
          "output_type": "stream",
          "name": "stdout",
          "text": [
            "30\n"
          ]
        }
      ]
    },
    {
      "cell_type": "code",
      "source": [
        "A = np.array([1,3,4])  #1*4,1*2,1*5\n",
        "B = np.array([4,2,5])  #3*4,3*2,3*5\n",
        "print(np.outer(A,B))  #4*4,4*2,*4*5  the first row each number multiply with secon row all  numbers and print the list"
      ],
      "metadata": {
        "colab": {
          "base_uri": "https://localhost:8080/"
        },
        "id": "wYOZRUxZEUo6",
        "outputId": "fb242d47-c059-41e1-f0d9-a76b902944aa"
      },
      "execution_count": 29,
      "outputs": [
        {
          "output_type": "stream",
          "name": "stdout",
          "text": [
            "[[ 4  2  5]\n",
            " [12  6 15]\n",
            " [16  8 20]]\n"
          ]
        }
      ]
    },
    {
      "cell_type": "code",
      "source": [
        "A = np.array([1,3,4])\n",
        "B = np.array([4,2,5])\n",
        "print(np.cross(A,B))\n",
        "# here you have to observe when you caluculate cross matrice one colom will be silent, next time second colom silent, next 3rd colom wiil be silent leke below\n",
        "#3*4-4*2=7, -1*5-4*4=11, 1*2-4*3= -10"
      ],
      "metadata": {
        "colab": {
          "base_uri": "https://localhost:8080/"
        },
        "id": "jjNpAnF1FJWx",
        "outputId": "5876b541-8e6f-4658-d01c-680669bbc63d"
      },
      "execution_count": 30,
      "outputs": [
        {
          "output_type": "stream",
          "name": "stdout",
          "text": [
            "[  7  11 -10]\n"
          ]
        }
      ]
    },
    {
      "cell_type": "code",
      "source": [
        "#from parent import child\n",
        "from numpy import random as rd"
      ],
      "metadata": {
        "id": "6bCab9yWHQUo"
      },
      "execution_count": 2,
      "outputs": []
    },
    {
      "cell_type": "code",
      "source": [
        "arr = rd.rand() # limit 0 to 1\n",
        "print(arr)"
      ],
      "metadata": {
        "colab": {
          "base_uri": "https://localhost:8080/"
        },
        "id": "fxtxeJ-UqRLd",
        "outputId": "e005cb53-67c0-4ce5-e05d-dcbc7726fd2c"
      },
      "execution_count": 3,
      "outputs": [
        {
          "output_type": "stream",
          "name": "stdout",
          "text": [
            "0.295236427544487\n"
          ]
        }
      ]
    },
    {
      "cell_type": "code",
      "source": [
        "arr = rd.rand(4) # rand(size) random === less then 1\n",
        "print(arr)"
      ],
      "metadata": {
        "colab": {
          "base_uri": "https://localhost:8080/"
        },
        "id": "IN1Ofc1_tW4T",
        "outputId": "d78170bb-bef9-4b3f-978d-d918e31a3e56"
      },
      "execution_count": 4,
      "outputs": [
        {
          "output_type": "stream",
          "name": "stdout",
          "text": [
            "[0.35288499 0.06741183 0.35707074 0.42330923]\n"
          ]
        }
      ]
    },
    {
      "cell_type": "code",
      "source": [
        "arr = rd.randint(4) # randint(limit) #0,1,2,3\n",
        "print(arr)"
      ],
      "metadata": {
        "colab": {
          "base_uri": "https://localhost:8080/"
        },
        "id": "xzrfgQydtvNW",
        "outputId": "f6efd588-af9e-4a2a-a33b-ebbcab3645e5"
      },
      "execution_count": 9,
      "outputs": [
        {
          "output_type": "stream",
          "name": "stdout",
          "text": [
            "2\n"
          ]
        }
      ]
    },
    {
      "cell_type": "code",
      "source": [
        "#randint(limit, size = (number)) #1d array\n",
        "arr = rd.randint(50, size = (3)) # Genarate 3 random numbers less then 50\n",
        "print(arr)"
      ],
      "metadata": {
        "colab": {
          "base_uri": "https://localhost:8080/"
        },
        "id": "tXpEpMU3uBTM",
        "outputId": "21543603-b0a3-482b-80f5-2dce2cd3345e"
      },
      "execution_count": 13,
      "outputs": [
        {
          "output_type": "stream",
          "name": "stdout",
          "text": [
            "[25 12  1]\n"
          ]
        }
      ]
    },
    {
      "cell_type": "code",
      "source": [
        "#randint(limit, size = (number)) #2d array\n",
        "arr = rd.randint(50, size = (3,4)) # Genarate 3 random numbers less then 50\n",
        "print(arr)\n",
        "print(arr.ndim)"
      ],
      "metadata": {
        "colab": {
          "base_uri": "https://localhost:8080/"
        },
        "id": "B3ad9ysevSas",
        "outputId": "eca86e52-2b7b-4f4c-c88b-31234be97db9"
      },
      "execution_count": 16,
      "outputs": [
        {
          "output_type": "stream",
          "name": "stdout",
          "text": [
            "[[22 31 25 49]\n",
            " [40 16 19 14]\n",
            " [35 19 26 44]]\n",
            "2\n"
          ]
        }
      ]
    },
    {
      "cell_type": "code",
      "source": [
        "arr = np.array([9,4,3,1,2])\n",
        "arr2 = rd.shuffle(arr)\n",
        "print(arr2)"
      ],
      "metadata": {
        "colab": {
          "base_uri": "https://localhost:8080/"
        },
        "id": "sgQpHkk_0kEy",
        "outputId": "cd0823c2-f864-4698-d830-4aa1e5afea6f"
      },
      "execution_count": 17,
      "outputs": [
        {
          "output_type": "stream",
          "name": "stdout",
          "text": [
            "None\n"
          ]
        }
      ]
    },
    {
      "cell_type": "code",
      "source": [
        "arr = np.array([9, 4, 3, 1, 2])\n",
        "np.random.shuffle(arr)\n",
        "print(arr)"
      ],
      "metadata": {
        "colab": {
          "base_uri": "https://localhost:8080/"
        },
        "id": "6cbvCHmA1efE",
        "outputId": "2ec3e778-3885-476b-cc58-de1418cdfa13"
      },
      "execution_count": 18,
      "outputs": [
        {
          "output_type": "stream",
          "name": "stdout",
          "text": [
            "[1 3 2 9 4]\n"
          ]
        }
      ]
    },
    {
      "cell_type": "code",
      "source": [
        "L = np.log(10)\n",
        "print(L)"
      ],
      "metadata": {
        "colab": {
          "base_uri": "https://localhost:8080/"
        },
        "id": "-jskCzMs2_Hh",
        "outputId": "7e232b9b-998b-4cdd-bb37-644d994781a5"
      },
      "execution_count": 20,
      "outputs": [
        {
          "output_type": "stream",
          "name": "stdout",
          "text": [
            "2.302585092994046\n"
          ]
        }
      ]
    },
    {
      "cell_type": "code",
      "source": [
        "L = 10\n",
        "print(np.log(L))# natural log"
      ],
      "metadata": {
        "colab": {
          "base_uri": "https://localhost:8080/"
        },
        "id": "g2cg2NZ25dP5",
        "outputId": "2696ef15-7322-4d86-c9da-c925dc407d22"
      },
      "execution_count": 22,
      "outputs": [
        {
          "output_type": "stream",
          "name": "stdout",
          "text": [
            "2.302585092994046\n"
          ]
        }
      ]
    },
    {
      "cell_type": "code",
      "source": [
        "L = 10\n",
        "print(np.log2(L))#log base 2"
      ],
      "metadata": {
        "colab": {
          "base_uri": "https://localhost:8080/"
        },
        "id": "ZBPfitOY5nu4",
        "outputId": "28146810-d4cd-4f27-9f7b-d8a23b37367b"
      },
      "execution_count": 23,
      "outputs": [
        {
          "output_type": "stream",
          "name": "stdout",
          "text": [
            "3.321928094887362\n"
          ]
        }
      ]
    },
    {
      "cell_type": "code",
      "source": [
        "L = 10\n",
        "print(np.log10(L))#log base 10"
      ],
      "metadata": {
        "colab": {
          "base_uri": "https://localhost:8080/"
        },
        "id": "J2anRfxj54ui",
        "outputId": "645aa580-3c11-4f81-cbef-9eb76ea55178"
      },
      "execution_count": 24,
      "outputs": [
        {
          "output_type": "stream",
          "name": "stdout",
          "text": [
            "1.0\n"
          ]
        }
      ]
    },
    {
      "cell_type": "code",
      "source": [
        "#shape manipulation\n",
        "A = rd.randint(50, size = (2,2))\n",
        "print(A)"
      ],
      "metadata": {
        "colab": {
          "base_uri": "https://localhost:8080/"
        },
        "id": "8ZfAwRCN6Npv",
        "outputId": "2a7782bc-80c3-4d10-fab9-1d7c8d36f108"
      },
      "execution_count": 30,
      "outputs": [
        {
          "output_type": "stream",
          "name": "stdout",
          "text": [
            "[[29 16]\n",
            " [18  5]]\n"
          ]
        }
      ]
    },
    {
      "cell_type": "code",
      "source": [
        "Z = np.arange(2,8).reshape(2,3)\n",
        "print(Z)"
      ],
      "metadata": {
        "colab": {
          "base_uri": "https://localhost:8080/"
        },
        "id": "ShqbqnG_7GI0",
        "outputId": "24d9bf86-3d6a-46c0-973a-3c84465a2e71"
      },
      "execution_count": 32,
      "outputs": [
        {
          "output_type": "stream",
          "name": "stdout",
          "text": [
            "[[2 3 4]\n",
            " [5 6 7]]\n"
          ]
        }
      ]
    },
    {
      "cell_type": "code",
      "source": [
        "s = np.array([2,4,6,7,8,12,14,15,]).reshape(4,2)\n",
        "print(s)"
      ],
      "metadata": {
        "colab": {
          "base_uri": "https://localhost:8080/"
        },
        "id": "7rqo-t1s7p6X",
        "outputId": "2a2ef376-6c32-4b1f-987b-8d4aec358bc5"
      },
      "execution_count": 33,
      "outputs": [
        {
          "output_type": "stream",
          "name": "stdout",
          "text": [
            "[[ 2  4]\n",
            " [ 6  7]\n",
            " [ 8 12]\n",
            " [14 15]]\n"
          ]
        }
      ]
    },
    {
      "cell_type": "code",
      "source": [
        "a = np.array([2,4,6,7,8,12,14,15,])\n",
        "b = a.reshape(4,2)\n",
        "print(b)"
      ],
      "metadata": {
        "colab": {
          "base_uri": "https://localhost:8080/"
        },
        "id": "aSReM-_r8Rbh",
        "outputId": "8b5c093f-8244-4690-cff3-ce20f585d902"
      },
      "execution_count": 34,
      "outputs": [
        {
          "output_type": "stream",
          "name": "stdout",
          "text": [
            "[[ 2  4]\n",
            " [ 6  7]\n",
            " [ 8 12]\n",
            " [14 15]]\n"
          ]
        }
      ]
    },
    {
      "cell_type": "code",
      "source": [
        "a = np.array([2,4,6,7,8,12,14,15,])\n",
        "a.reshape(4,2)#changes are not shaved\n",
        "print(a)"
      ],
      "metadata": {
        "colab": {
          "base_uri": "https://localhost:8080/"
        },
        "id": "0h8ogVRa8qgU",
        "outputId": "e9f19229-3f3a-4284-db2e-25adcda7eb6a"
      },
      "execution_count": 36,
      "outputs": [
        {
          "output_type": "stream",
          "name": "stdout",
          "text": [
            "[ 2  4  6  7  8 12 14 15]\n"
          ]
        }
      ]
    },
    {
      "cell_type": "code",
      "source": [
        "a = np.array([2,4,6,7,8,12,14,15,])\n",
        "a.resize(4,2)#changes are  shaved to original array\n",
        "print(a)"
      ],
      "metadata": {
        "colab": {
          "base_uri": "https://localhost:8080/"
        },
        "id": "U4t29OCN81hO",
        "outputId": "3fce9297-a747-4b5c-eeaf-f5fc21223e07"
      },
      "execution_count": 37,
      "outputs": [
        {
          "output_type": "stream",
          "name": "stdout",
          "text": [
            "[[ 2  4]\n",
            " [ 6  7]\n",
            " [ 8 12]\n",
            " [14 15]]\n"
          ]
        }
      ]
    }
  ]
}