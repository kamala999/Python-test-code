{
  "nbformat": 4,
  "nbformat_minor": 0,
  "metadata": {
    "colab": {
      "provenance": [],
      "authorship_tag": "ABX9TyPGgIubaw72Y+WUhv/ItlxR",
      "include_colab_link": true
    },
    "kernelspec": {
      "name": "python3",
      "display_name": "Python 3"
    },
    "language_info": {
      "name": "python"
    }
  },
  "cells": [
    {
      "cell_type": "markdown",
      "metadata": {
        "id": "view-in-github",
        "colab_type": "text"
      },
      "source": [
        "<a href=\"https://colab.research.google.com/github/kamala999/Python-test-code/blob/main/Untitled2.ipynb\" target=\"_parent\"><img src=\"https://colab.research.google.com/assets/colab-badge.svg\" alt=\"Open In Colab\"/></a>"
      ]
    },
    {
      "cell_type": "code",
      "execution_count": 4,
      "metadata": {
        "colab": {
          "base_uri": "https://localhost:8080/"
        },
        "id": "-nSsWBLOhiXg",
        "outputId": "fd992b1f-7dc8-4f48-a808-a95aadd68b23"
      },
      "outputs": [
        {
          "output_type": "stream",
          "name": "stdout",
          "text": [
            "40.5\n",
            "<class 'float'>\n",
            "40\n",
            "<class 'int'>\n"
          ]
        }
      ],
      "source": [
        "#implicite conversion: interpretor\n",
        "a = 20\n",
        "b = 20.5\n",
        "c = a+b\n",
        "print(c)\n",
        "print(type(c))\n",
        "\n",
        "#implecite interpretor will take the flote amout\n",
        "\n",
        "#explicite conversion: user\n",
        "a = 20\n",
        "b = 20.5\n",
        "c = int(a+b)\n",
        "print(c)\n",
        "print(type(c))\n",
        "# explisite conversion we can pass the int so that user will give the exact number"
      ]
    }
  ]
}