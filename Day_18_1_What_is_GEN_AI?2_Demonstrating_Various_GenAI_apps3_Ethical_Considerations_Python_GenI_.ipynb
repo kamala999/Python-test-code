{
  "nbformat": 4,
  "nbformat_minor": 0,
  "metadata": {
    "colab": {
      "provenance": [],
      "authorship_tag": "ABX9TyPsYxF4GwJ3uK/GFzBe67QD",
      "include_colab_link": true
    },
    "kernelspec": {
      "name": "python3",
      "display_name": "Python 3"
    },
    "language_info": {
      "name": "python"
    }
  },
  "cells": [
    {
      "cell_type": "markdown",
      "metadata": {
        "id": "view-in-github",
        "colab_type": "text"
      },
      "source": [
        "<a href=\"https://colab.research.google.com/github/kamala999/Python-test-code/blob/main/Day_18_1_What_is_GEN_AI%3F2_Demonstrating_Various_GenAI_apps3_Ethical_Considerations_Python_GenI_.ipynb\" target=\"_parent\"><img src=\"https://colab.research.google.com/assets/colab-badge.svg\" alt=\"Open In Colab\"/></a>"
      ]
    },
    {
      "cell_type": "code",
      "execution_count": null,
      "metadata": {
        "id": "aOizVS39XSJh"
      },
      "outputs": [],
      "source": [
        "#Machine Learninbg\n",
        "# - like humans learn from there past experiance\n",
        "# machines learn from past/pre-recorded data! - training a meachine on various tasks is called a meachine learning!\n",
        "#---------------------------\n",
        "#use algarithms to lears tasks\n",
        "#Algarithms + data fed to machines!\n",
        "#learn patterns from data\n",
        "#predict output of new data\n",
        "#means, there is no need to program it when data cheanges!"
      ]
    }
  ]
}