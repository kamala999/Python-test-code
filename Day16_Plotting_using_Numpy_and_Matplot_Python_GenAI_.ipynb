{
  "nbformat": 4,
  "nbformat_minor": 0,
  "metadata": {
    "colab": {
      "provenance": [],
      "authorship_tag": "ABX9TyMkdkchpC4w5uHIUQaTLiHU",
      "include_colab_link": true
    },
    "kernelspec": {
      "name": "python3",
      "display_name": "Python 3"
    },
    "language_info": {
      "name": "python"
    }
  },
  "cells": [
    {
      "cell_type": "markdown",
      "metadata": {
        "id": "view-in-github",
        "colab_type": "text"
      },
      "source": [
        "<a href=\"https://colab.research.google.com/github/kamala999/Python-test-code/blob/main/Day16_Plotting_using_Numpy_and_Matplot_Python_GenAI_.ipynb\" target=\"_parent\"><img src=\"https://colab.research.google.com/assets/colab-badge.svg\" alt=\"Open In Colab\"/></a>"
      ]
    },
    {
      "cell_type": "code",
      "execution_count": 2,
      "metadata": {
        "id": "84XLt90WWGdp"
      },
      "outputs": [],
      "source": [
        "import numpy as np"
      ]
    },
    {
      "cell_type": "code",
      "source": [
        "#Stacking Arrays!\n",
        "A = np.array([12,14,16,18,20,22]).reshape(2,3)\n",
        "print(A)"
      ],
      "metadata": {
        "colab": {
          "base_uri": "https://localhost:8080/"
        },
        "id": "PbOU3Azwrx3B",
        "outputId": "517a129e-5793-4d35-e59a-ed487c0fae0b"
      },
      "execution_count": 2,
      "outputs": [
        {
          "output_type": "stream",
          "name": "stdout",
          "text": [
            "[[12 14 16]\n",
            " [18 20 22]]\n"
          ]
        }
      ]
    },
    {
      "cell_type": "code",
      "source": [
        "B = np.array([1,2,3,4,5,6]).reshape(2,3)\n",
        "print(B)"
      ],
      "metadata": {
        "colab": {
          "base_uri": "https://localhost:8080/"
        },
        "id": "6GA911pfsg7V",
        "outputId": "b1ca7d66-576f-4246-965b-fa98275050bf"
      },
      "execution_count": 3,
      "outputs": [
        {
          "output_type": "stream",
          "name": "stdout",
          "text": [
            "[[1 2 3]\n",
            " [4 5 6]]\n"
          ]
        }
      ]
    },
    {
      "cell_type": "code",
      "source": [
        "#vertical stacking\n",
        "print(np.vstack((A,B))) #one over another"
      ],
      "metadata": {
        "colab": {
          "base_uri": "https://localhost:8080/"
        },
        "id": "UVUXyV-psw4T",
        "outputId": "c1d4807b-e557-45fe-c35e-8fa0244c2ba6"
      },
      "execution_count": 9,
      "outputs": [
        {
          "output_type": "stream",
          "name": "stdout",
          "text": [
            "[[12 14 16]\n",
            " [18 20 22]\n",
            " [ 1  2  3]\n",
            " [ 4  5  6]]\n"
          ]
        }
      ]
    },
    {
      "cell_type": "code",
      "source": [
        "#horizontal stacking\n",
        "print(np.hstack((A,B))) #side by side"
      ],
      "metadata": {
        "colab": {
          "base_uri": "https://localhost:8080/"
        },
        "id": "SXdPLe9EuklD",
        "outputId": "806dce7a-ac35-4c6d-a55b-e45d51f94024"
      },
      "execution_count": 10,
      "outputs": [
        {
          "output_type": "stream",
          "name": "stdout",
          "text": [
            "[[12 14 16  1  2  3]\n",
            " [18 20 22  4  5  6]]\n"
          ]
        }
      ]
    },
    {
      "cell_type": "code",
      "source": [
        "#dimentional stacking\n",
        "print(np.dstack((A,B))) # i A fisrt row 1st colom and B first row will second colom it will forming, like sme way 2nd also,\n",
        "#3d array with rows and colom"
      ],
      "metadata": {
        "colab": {
          "base_uri": "https://localhost:8080/"
        },
        "id": "O6sT2Ug1u4ZN",
        "outputId": "337a96d4-eda0-4e3f-e14c-395fecaad1e5"
      },
      "execution_count": 11,
      "outputs": [
        {
          "output_type": "stream",
          "name": "stdout",
          "text": [
            "[[[12  1]\n",
            "  [14  2]\n",
            "  [16  3]]\n",
            "\n",
            " [[18  4]\n",
            "  [20  5]\n",
            "  [22  6]]]\n"
          ]
        }
      ]
    },
    {
      "cell_type": "code",
      "source": [
        "a = np.array([75,85,95])\n",
        "b = np.array([45,55,65])\n",
        "print(np.vstack((a,b)))\n",
        "print(\"++++++++++++++++++\")\n",
        "print(np.hstack((a,b)))"
      ],
      "metadata": {
        "colab": {
          "base_uri": "https://localhost:8080/"
        },
        "id": "F8zTQQojv1KK",
        "outputId": "78e2df29-ab8c-45ca-86c2-7406c0274bed"
      },
      "execution_count": 12,
      "outputs": [
        {
          "output_type": "stream",
          "name": "stdout",
          "text": [
            "[[75 85 95]\n",
            " [45 55 65]]\n",
            "++++++++++++++++++\n",
            "[75 85 95 45 55 65]\n"
          ]
        }
      ]
    },
    {
      "cell_type": "code",
      "source": [
        "ar = np.arange(1,25).reshape(2,3,4)\n",
        "print(ar)"
      ],
      "metadata": {
        "colab": {
          "base_uri": "https://localhost:8080/"
        },
        "id": "8_YPaEiDw2CE",
        "outputId": "858356bd-7886-4ee3-99e1-8e4fcedf019d"
      },
      "execution_count": 14,
      "outputs": [
        {
          "output_type": "stream",
          "name": "stdout",
          "text": [
            "[[[ 1  2  3  4]\n",
            "  [ 5  6  7  8]\n",
            "  [ 9 10 11 12]]\n",
            "\n",
            " [[13 14 15 16]\n",
            "  [17 18 19 20]\n",
            "  [21 22 23 24]]]\n"
          ]
        }
      ]
    },
    {
      "cell_type": "code",
      "source": [
        "print(np.dstack(ar))"
      ],
      "metadata": {
        "colab": {
          "base_uri": "https://localhost:8080/"
        },
        "id": "XXBRZT1JxOPa",
        "outputId": "18e24aa5-d744-4260-e2d2-758cc993a229"
      },
      "execution_count": 15,
      "outputs": [
        {
          "output_type": "stream",
          "name": "stdout",
          "text": [
            "[[[ 1 13]\n",
            "  [ 2 14]\n",
            "  [ 3 15]\n",
            "  [ 4 16]]\n",
            "\n",
            " [[ 5 17]\n",
            "  [ 6 18]\n",
            "  [ 7 19]\n",
            "  [ 8 20]]\n",
            "\n",
            " [[ 9 21]\n",
            "  [10 22]\n",
            "  [11 23]\n",
            "  [12 24]]]\n"
          ]
        }
      ]
    },
    {
      "cell_type": "code",
      "source": [
        "#splitting Arrays!\n",
        "from numpy import random as rd\n",
        "ar1 = rd.randint(50, size = (2,3))\n",
        "print(ar1)"
      ],
      "metadata": {
        "colab": {
          "base_uri": "https://localhost:8080/"
        },
        "id": "XCEub0BhyIkG",
        "outputId": "adc045b1-4521-4fd9-e941-bad5aff51138"
      },
      "execution_count": 6,
      "outputs": [
        {
          "output_type": "stream",
          "name": "stdout",
          "text": [
            "[[41  6  7]\n",
            " [27 27 21]]\n"
          ]
        }
      ]
    },
    {
      "cell_type": "code",
      "source": [
        "ar1 = rd.randint(50, size = (2,8))\n",
        "print(ar1)"
      ],
      "metadata": {
        "colab": {
          "base_uri": "https://localhost:8080/"
        },
        "id": "qXU84HwVAgs7",
        "outputId": "5b2186b1-e24e-46e3-ef93-096525cfef37"
      },
      "execution_count": 7,
      "outputs": [
        {
          "output_type": "stream",
          "name": "stdout",
          "text": [
            "[[ 2 13 17 19 42 29 38 29]\n",
            " [28 30  3  8 28  8 44 33]]\n"
          ]
        }
      ]
    },
    {
      "cell_type": "code",
      "source": [
        "np.hsplit(ar1,4) #==> 2 is number of arrays!"
      ],
      "metadata": {
        "colab": {
          "base_uri": "https://localhost:8080/"
        },
        "id": "LAVk75dTBalP",
        "outputId": "a28d6505-d21a-4de7-fc02-55cb22d413ee"
      },
      "execution_count": 8,
      "outputs": [
        {
          "output_type": "execute_result",
          "data": {
            "text/plain": [
              "[array([[ 2, 13],\n",
              "        [28, 30]]),\n",
              " array([[17, 19],\n",
              "        [ 3,  8]]),\n",
              " array([[42, 29],\n",
              "        [28,  8]]),\n",
              " array([[38, 29],\n",
              "        [44, 33]])]"
            ]
          },
          "metadata": {},
          "execution_count": 8
        }
      ]
    },
    {
      "cell_type": "code",
      "source": [
        "np.hsplit(ar1,(2,5,7))"
      ],
      "metadata": {
        "colab": {
          "base_uri": "https://localhost:8080/"
        },
        "id": "q-S5xlohCaVW",
        "outputId": "54b685c6-db4e-432a-bf55-0314a854719b"
      },
      "execution_count": 9,
      "outputs": [
        {
          "output_type": "execute_result",
          "data": {
            "text/plain": [
              "[array([[ 2, 13],\n",
              "        [28, 30]]),\n",
              " array([[17, 19, 42],\n",
              "        [ 3,  8, 28]]),\n",
              " array([[29, 38],\n",
              "        [ 8, 44]]),\n",
              " array([[29],\n",
              "        [33]])]"
            ]
          },
          "metadata": {},
          "execution_count": 9
        }
      ]
    },
    {
      "cell_type": "code",
      "source": [
        "ar1 = rd.randint(50, size = (8,2))\n",
        "print(ar1)"
      ],
      "metadata": {
        "colab": {
          "base_uri": "https://localhost:8080/"
        },
        "id": "LWcZfczJCnm1",
        "outputId": "eccbd25f-f6ea-401d-ed78-7a7b0571bf2e"
      },
      "execution_count": 10,
      "outputs": [
        {
          "output_type": "stream",
          "name": "stdout",
          "text": [
            "[[ 5 26]\n",
            " [48  8]\n",
            " [24 20]\n",
            " [16 26]\n",
            " [24 40]\n",
            " [12 13]\n",
            " [46 23]\n",
            " [26 37]]\n"
          ]
        }
      ]
    },
    {
      "cell_type": "code",
      "source": [
        "np.vsplit(ar1,(4))"
      ],
      "metadata": {
        "colab": {
          "base_uri": "https://localhost:8080/"
        },
        "id": "ecDRqKTnGBH8",
        "outputId": "e624cb0d-9cb4-45cf-836c-bd7e0d4a65b0"
      },
      "execution_count": 11,
      "outputs": [
        {
          "output_type": "execute_result",
          "data": {
            "text/plain": [
              "[array([[ 5, 26],\n",
              "        [48,  8]]),\n",
              " array([[24, 20],\n",
              "        [16, 26]]),\n",
              " array([[24, 40],\n",
              "        [12, 13]]),\n",
              " array([[46, 23],\n",
              "        [26, 37]])]"
            ]
          },
          "metadata": {},
          "execution_count": 11
        }
      ]
    },
    {
      "cell_type": "code",
      "source": [
        "np.vsplit(ar1,(3,5,7))"
      ],
      "metadata": {
        "colab": {
          "base_uri": "https://localhost:8080/"
        },
        "id": "crtrv9q0GasG",
        "outputId": "059216a5-3a86-4f6b-eb6d-45e185c0d326"
      },
      "execution_count": 12,
      "outputs": [
        {
          "output_type": "execute_result",
          "data": {
            "text/plain": [
              "[array([[ 5, 26],\n",
              "        [48,  8],\n",
              "        [24, 20]]),\n",
              " array([[16, 26],\n",
              "        [24, 40]]),\n",
              " array([[12, 13],\n",
              "        [46, 23]]),\n",
              " array([[26, 37]])]"
            ]
          },
          "metadata": {},
          "execution_count": 12
        }
      ]
    },
    {
      "cell_type": "code",
      "source": [
        "#More Functions!\n",
        "ar3 = rd.randint(50, size = (4,6))\n",
        "print(ar3)\n",
        "# the index willshare as fro 0,1,2,3,---, like each row\n",
        "#[0,1,2,3,4,5,]\n",
        "#[6,7,8,9,10,11]\n",
        "#[12,13,14,15,16,17]\n",
        "#[18,19,20,21,22,23]"
      ],
      "metadata": {
        "colab": {
          "base_uri": "https://localhost:8080/"
        },
        "id": "EoHpAf50JB58",
        "outputId": "2d410d51-fbd8-493f-c2b6-da5a7b7cdff9"
      },
      "execution_count": 14,
      "outputs": [
        {
          "output_type": "stream",
          "name": "stdout",
          "text": [
            "[[34 11 15 35 38  0]\n",
            " [19  0  5 34 41 25]\n",
            " [47 29 25 18 22 25]\n",
            " [14 34 48 47 42 37]]\n"
          ]
        }
      ]
    },
    {
      "cell_type": "code",
      "source": [
        "#from the above index will caliuculate mimimum and maximun sise using this formula\n",
        "np.argmax(ar3)"
      ],
      "metadata": {
        "colab": {
          "base_uri": "https://localhost:8080/"
        },
        "id": "-mUa5ExyKdg6",
        "outputId": "526210a5-f46e-42a1-85f3-824b2befb00e"
      },
      "execution_count": 15,
      "outputs": [
        {
          "output_type": "execute_result",
          "data": {
            "text/plain": [
              "20"
            ]
          },
          "metadata": {},
          "execution_count": 15
        }
      ]
    },
    {
      "cell_type": "code",
      "source": [
        "\n",
        "#The index form like row wise and count the big number\n",
        "#[0,0,0,0,0,0]\n",
        "#[1,1,1,1,1,1]\n",
        "#[2,2,2,2,2,2]np.argmax(ar3,axis = 0)\n",
        "#[3,3,3,3,3,3]\n"
      ],
      "metadata": {
        "colab": {
          "base_uri": "https://localhost:8080/"
        },
        "id": "FgjMUqCFMfXH",
        "outputId": "d60ee7f7-45d2-4d2c-885c-0b7605827d6e"
      },
      "execution_count": 35,
      "outputs": [
        {
          "output_type": "execute_result",
          "data": {
            "text/plain": [
              "array([0, 3, 1, 0, 1, 3])"
            ]
          },
          "metadata": {},
          "execution_count": 35
        }
      ]
    },
    {
      "cell_type": "code",
      "source": [
        "np.argmax(ar3,axis = 1)\n",
        "#[0,1,2,3,4,5,]\n",
        "#[0,1,2,3,4,5,]\n",
        "#[0,1,2,3,4,5,]\n",
        "#[0,1,2,3,4,5,]\n",
        "#[0,1,2,3,4,5,]\n"
      ],
      "metadata": {
        "colab": {
          "base_uri": "https://localhost:8080/"
        },
        "id": "ankT8q7IN66W",
        "outputId": "5a46013e-caae-4c3f-ce49-b324d2ea583c"
      },
      "execution_count": 16,
      "outputs": [
        {
          "output_type": "execute_result",
          "data": {
            "text/plain": [
              "array([4, 4, 0, 2])"
            ]
          },
          "metadata": {},
          "execution_count": 16
        }
      ]
    },
    {
      "cell_type": "code",
      "source": [
        "np.argmin(ar3)"
      ],
      "metadata": {
        "colab": {
          "base_uri": "https://localhost:8080/"
        },
        "id": "RtiSOCuNvVlj",
        "outputId": "6299de71-8b2b-4331-f080-609ed85e407c"
      },
      "execution_count": 17,
      "outputs": [
        {
          "output_type": "execute_result",
          "data": {
            "text/plain": [
              "5"
            ]
          },
          "metadata": {},
          "execution_count": 17
        }
      ]
    },
    {
      "cell_type": "code",
      "source": [
        "np.argmax(ar3,axis = 0)"
      ],
      "metadata": {
        "colab": {
          "base_uri": "https://localhost:8080/"
        },
        "id": "rxDbJBCVveqg",
        "outputId": "900d72b7-af56-4e5b-ca43-ed86fe79d185"
      },
      "execution_count": 18,
      "outputs": [
        {
          "output_type": "execute_result",
          "data": {
            "text/plain": [
              "array([2, 3, 3, 3, 3, 3])"
            ]
          },
          "metadata": {},
          "execution_count": 18
        }
      ]
    },
    {
      "cell_type": "code",
      "source": [
        "np.argmin(ar3,axis = 1)"
      ],
      "metadata": {
        "colab": {
          "base_uri": "https://localhost:8080/"
        },
        "id": "0BwM6H56vhtr",
        "outputId": "2e933288-3b6e-4aab-aa16-ecfcf66c72f1"
      },
      "execution_count": 19,
      "outputs": [
        {
          "output_type": "execute_result",
          "data": {
            "text/plain": [
              "array([5, 1, 3, 0])"
            ]
          },
          "metadata": {},
          "execution_count": 19
        }
      ]
    },
    {
      "cell_type": "code",
      "source": [
        "#sine-weve\n",
        "values = np.linspace(-2*np.pi,2*np.pi,100)\n",
        "sine = np.sin(values)"
      ],
      "metadata": {
        "id": "y1RpqtA5wew7"
      },
      "execution_count": 24,
      "outputs": []
    },
    {
      "cell_type": "code",
      "source": [
        "import matplotlib.pyplot as plt\n",
        "plt.plot(values,sine)\n",
        "plt.title(\"sine-wave\")"
      ],
      "metadata": {
        "colab": {
          "base_uri": "https://localhost:8080/",
          "height": 470
        },
        "id": "swUPPV8SxGvM",
        "outputId": "3d83d1f4-4abb-4175-8512-fc28caefa06a"
      },
      "execution_count": 30,
      "outputs": [
        {
          "output_type": "execute_result",
          "data": {
            "text/plain": [
              "Text(0.5, 1.0, 'sine-wave')"
            ]
          },
          "metadata": {},
          "execution_count": 30
        },
        {
          "output_type": "display_data",
          "data": {
            "text/plain": [
              "<Figure size 640x480 with 1 Axes>"
            ],
            "image/png": "[encoded data removed]"
          },
          "metadata": {}
        }
      ]
    },
    {
      "cell_type": "code",
      "source": [
        "values = np.linspace(-2*np.pi,2*np.pi,100)\n",
        "cosv = np.cos(values)\n",
        "plt.plot(values,cosv)\n",
        "plt.title(\"cosv wave\")"
      ],
      "metadata": {
        "colab": {
          "base_uri": "https://localhost:8080/",
          "height": 470
        },
        "id": "o6VHh_ue05vp",
        "outputId": "85c25322-72a0-46e0-bc91-978c80f4cff6"
      },
      "execution_count": 31,
      "outputs": [
        {
          "output_type": "execute_result",
          "data": {
            "text/plain": [
              "Text(0.5, 1.0, 'cosv wave')"
            ]
          },
          "metadata": {},
          "execution_count": 31
        },
        {
          "output_type": "display_data",
          "data": {
            "text/plain": [
              "<Figure size 640x480 with 1 Axes>"
            ],
            "image/png": "[encoded data removed]"
          },
          "metadata": {}
        }
      ]
    },
    {
      "cell_type": "code",
      "source": [
        "#converting list into array\n",
        "X = [1,1,2,3,4,5,6]\n",
        "\n",
        "A = np.asarray(X)\n",
        "print(type(A))\n"
      ],
      "metadata": {
        "colab": {
          "base_uri": "https://localhost:8080/"
        },
        "id": "CospGcMFx9ou",
        "outputId": "d2144daa-5c5e-48d9-9c3b-202cb3192d25"
      },
      "execution_count": 29,
      "outputs": [
        {
          "output_type": "stream",
          "name": "stdout",
          "text": [
            "<class 'numpy.ndarray'>\n"
          ]
        }
      ]
    },
    {
      "cell_type": "code",
      "source": [
        "A = [1,2,3,4,5,6,7,8]\n",
        "B = [25,35,45,33,22,25,33,55]\n",
        "plt.plot(A,B)\n",
        "plt.title(\"Array ploting demo\")"
      ],
      "metadata": {
        "colab": {
          "base_uri": "https://localhost:8080/",
          "height": 470
        },
        "id": "7ccbku7Y2smK",
        "outputId": "6dfaafaa-ef08-4d2e-8f69-09dfbe5cd487"
      },
      "execution_count": 33,
      "outputs": [
        {
          "output_type": "execute_result",
          "data": {
            "text/plain": [
              "Text(0.5, 1.0, 'Array ploting demo')"
            ]
          },
          "metadata": {},
          "execution_count": 33
        },
        {
          "output_type": "display_data",
          "data": {
            "text/plain": [
              "<Figure size 640x480 with 1 Axes>"
            ],
            "image/png": "[encoded data removed]"
          },
          "metadata": {}
        }
      ]
    },
    {
      "cell_type": "code",
      "source": [],
      "metadata": {
        "id": "XuwMvNvG3wV-"
      },
      "execution_count": null,
      "outputs": []
    }
  ]
}