{
  "nbformat": 4,
  "nbformat_minor": 0,
  "metadata": {
    "colab": {
      "provenance": [],
      "authorship_tag": "ABX9TyOS/nOq9ssAIpuXJZuIiP6T",
      "include_colab_link": true
    },
    "kernelspec": {
      "name": "python3",
      "display_name": "Python 3"
    },
    "language_info": {
      "name": "python"
    }
  },
  "cells": [
    {
      "cell_type": "markdown",
      "metadata": {
        "id": "view-in-github",
        "colab_type": "text"
      },
      "source": [
        "<a href=\"https://colab.research.google.com/github/kamala999/Python-test-code/blob/main/Day15_9_Stacking_and_splitting10_Shape_Manipulations_Python_Gen_AI.ipynb\" target=\"_parent\"><img src=\"https://colab.research.google.com/assets/colab-badge.svg\" alt=\"Open In Colab\"/></a>"
      ]
    },
    {
      "cell_type": "code",
      "execution_count": 1,
      "metadata": {
        "id": "HcAWDE2LCama"
      },
      "outputs": [],
      "source": [
        "import numpy as np"
      ]
    },
    {
      "cell_type": "code",
      "source": [
        "A = np.array([45,60,90])\n",
        "B = np.array([16,18,20])\n"
      ],
      "metadata": {
        "id": "s6Seb-8eDwRO"
      },
      "execution_count": 2,
      "outputs": []
    },
    {
      "cell_type": "code",
      "source": [
        "a = 15\n",
        "b = 12\n",
        "print(np.lcm(a,b))"
      ],
      "metadata": {
        "colab": {
          "base_uri": "https://localhost:8080/"
        },
        "id": "13WNxpvgEEzj",
        "outputId": "502ccf2b-b888-4127-c433-f83adda1cd46"
      },
      "execution_count": 3,
      "outputs": [
        {
          "output_type": "stream",
          "name": "stdout",
          "text": [
            "60\n"
          ]
        }
      ]
    },
    {
      "cell_type": "code",
      "source": [
        "a = 15\n",
        "b = 12\n",
        "print(np.gcd(a,b))"
      ],
      "metadata": {
        "colab": {
          "base_uri": "https://localhost:8080/"
        },
        "id": "G4-GEmBwEUqs",
        "outputId": "15a2da6b-ef9b-431d-9e37-0c3b373f1368"
      },
      "execution_count": 4,
      "outputs": [
        {
          "output_type": "stream",
          "name": "stdout",
          "text": [
            "3\n"
          ]
        }
      ]
    },
    {
      "cell_type": "code",
      "source": [
        "A = np.array([45,60,90])\n",
        "B = np.array([16,18,20])\n",
        "print(\"this will going to print the LCM-Least Common Multiple value of 45,60,90\")\n",
        "print(np.lcm.reduce(A))\n",
        "print(\"this will going to print the gcd-Greatest Common Diviso value of 45,60,90\")\n",
        "print(np.gcd.reduce(A))"
      ],
      "metadata": {
        "colab": {
          "base_uri": "https://localhost:8080/"
        },
        "id": "uY_Awai0EZV1",
        "outputId": "4c44fe1e-986e-4dd4-afbd-5cf28c6fb8f7"
      },
      "execution_count": 6,
      "outputs": [
        {
          "output_type": "stream",
          "name": "stdout",
          "text": [
            "this will going to print the LCM-Least Common Multiple value of 45,60,90\n",
            "180\n",
            "this will going to print the gcd-Greatest Common Diviso value of 45,60,90\n",
            "15\n"
          ]
        }
      ]
    }
  ]
}