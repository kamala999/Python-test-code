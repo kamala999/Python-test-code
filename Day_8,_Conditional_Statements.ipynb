{
  "nbformat": 4,
  "nbformat_minor": 0,
  "metadata": {
    "colab": {
      "provenance": [],
      "authorship_tag": "ABX9TyMdkcj30HXCnDTL7ItYPUgO",
      "include_colab_link": true
    },
    "kernelspec": {
      "name": "python3",
      "display_name": "Python 3"
    },
    "language_info": {
      "name": "python"
    }
  },
  "cells": [
    {
      "cell_type": "markdown",
      "metadata": {
        "id": "view-in-github",
        "colab_type": "text"
      },
      "source": [
        "<a href=\"https://colab.research.google.com/github/kamala999/Python-test-code/blob/main/Day_8%2C_Conditional_Statements.ipynb\" target=\"_parent\"><img src=\"https://colab.research.google.com/assets/colab-badge.svg\" alt=\"Open In Colab\"/></a>"
      ]
    },
    {
      "cell_type": "code",
      "execution_count": null,
      "metadata": {
        "id": "l8YLleIKBaWu"
      },
      "outputs": [],
      "source": [
        "#Conditional Statements\n",
        "#if is one condition use\n",
        "#else is one condition use\n",
        "#elif is a multiple conditional use\n"
      ]
    },
    {
      "cell_type": "code",
      "source": [
        "# using if condition\n",
        "date = input(\"enter the date: \")\n",
        "\n",
        "if date == \"19\":\n",
        "  print(\"monday\")"
      ],
      "metadata": {
        "colab": {
          "base_uri": "https://localhost:8080/"
        },
        "id": "Mx2ca0b8Czay",
        "outputId": "df2b56d9-b04e-4868-bba5-966704e59354"
      },
      "execution_count": 1,
      "outputs": [
        {
          "output_type": "stream",
          "name": "stdout",
          "text": [
            "enter the date: 19\n",
            "monday\n"
          ]
        }
      ]
    },
    {
      "cell_type": "code",
      "source": [
        "#Ex1\n",
        "# now using if,elif,else condition because multiple conditions excute now\n",
        "date = input(\"enter the date: \")\n",
        "\n",
        "if date == \"19\":\n",
        "  print(\"monday\")\n",
        "elif date == \"20\":\n",
        "  print(\"thuseday\")\n",
        "elif date == \"21\":\n",
        "  print(\"wednesday\")\n",
        "elif date == \"22\":\n",
        "  print(\"thursday\")\n",
        "else:\n",
        "  print(\"date is out of boundory\")"
      ],
      "metadata": {
        "colab": {
          "base_uri": "https://localhost:8080/"
        },
        "id": "oXymEvRKDbak",
        "outputId": "1b4244ed-ad82-4370-9f8a-58a7a4e520e6"
      },
      "execution_count": 3,
      "outputs": [
        {
          "output_type": "stream",
          "name": "stdout",
          "text": [
            "enter the date: 23\n",
            "date is out of boundory\n"
          ]
        }
      ]
    },
    {
      "cell_type": "code",
      "source": [
        "#Ex2\n",
        "# now using if,elif,else condition because multiple conditions excute now\n",
        "date = input(\"enter the date: \")\n",
        "\n",
        "if date == \"19\":\n",
        "  print(\"monday\")\n",
        "elif date == \"20\":\n",
        "  print(\"thuseday\")\n",
        "elif date == \"21\":\n",
        "  print(\"wednesday\")\n",
        "elif date == \"22\":\n",
        "  print(\"thursday\")\n",
        "else:\n",
        "  print(\"date is out of boundory\")"
      ],
      "metadata": {
        "colab": {
          "base_uri": "https://localhost:8080/"
        },
        "id": "eCoD_RgtGn-h",
        "outputId": "62801254-af7a-4b56-c7c7-99547116cef7"
      },
      "execution_count": 4,
      "outputs": [
        {
          "output_type": "stream",
          "name": "stdout",
          "text": [
            "enter the date: 21\n",
            "wednesday\n"
          ]
        }
      ]
    },
    {
      "cell_type": "code",
      "source": [
        "#Ex3\n",
        "#printing day with date\n",
        "date = int(input(\"enter the date: \"))\n",
        "\n",
        "if date == 0:\n",
        "  print(\"does not exist date\")\n",
        "elif date <= 3: #123\n",
        "  print(\"week1\")\n",
        "elif 4<date<=10:\n",
        "  print(\"week2\")\n",
        "elif 11<date<=17:\n",
        "  print(\"week3\")\n",
        "elif 18<date<=24:\n",
        "  print(\"week4\")\n",
        "elif 25<date<=29:\n",
        "  print(\"week5\")\n",
        "else:\n",
        "  print(\"february have only 29 days\")"
      ],
      "metadata": {
        "colab": {
          "base_uri": "https://localhost:8080/"
        },
        "id": "QGuNAHuUG5ox",
        "outputId": "e1a4e0a4-0b9e-4a61-c327-19d5544b2269"
      },
      "execution_count": 7,
      "outputs": [
        {
          "output_type": "stream",
          "name": "stdout",
          "text": [
            "enter the date: 22\n",
            "week4\n"
          ]
        }
      ]
    },
    {
      "cell_type": "code",
      "source": [
        "#Find the large number among the three numbers using nested if else statement\n",
        "x = 5\n",
        "y = 10\n",
        "z = 15\n",
        "if x>y:\n",
        "  print(\"y is bigger\")\n",
        "else:\n",
        "  if y<z:\n",
        "    print(\"z is bigger\")\n",
        "  else:\n",
        "    print(\"this is lesser value\")"
      ],
      "metadata": {
        "colab": {
          "base_uri": "https://localhost:8080/"
        },
        "id": "Dr0Rg89pWo8v",
        "outputId": "529bd992-78e0-4340-8ec2-0acab928ad7a"
      },
      "execution_count": 10,
      "outputs": [
        {
          "output_type": "stream",
          "name": "stdout",
          "text": [
            "z is bigger\n"
          ]
        }
      ]
    },
    {
      "cell_type": "code",
      "source": [
        "#if -(else-(if-else)) the senario is marks more than 90 give gradeA+, more then 80 give A grade, less then 80 give Bgrade\n",
        "mark = int(input(\"enter the marks: \"))\n",
        "if mark >90:\n",
        "  print(\"grade A+\")\n",
        "else:\n",
        "  if mark >80:\n",
        "    print(\"grade A\")\n",
        "  else:\n",
        "    print(\"grade B\")\n",
        "\n"
      ],
      "metadata": {
        "colab": {
          "base_uri": "https://localhost:8080/"
        },
        "id": "e0iYo3DHb90k",
        "outputId": "4e2b9355-b0a7-431f-a129-a54fabb3fbf1"
      },
      "execution_count": 13,
      "outputs": [
        {
          "output_type": "stream",
          "name": "stdout",
          "text": [
            "enter the marks: 86\n",
            "grade A\n"
          ]
        }
      ]
    },
    {
      "cell_type": "code",
      "source": [
        "#Nested If statements\n",
        "name = input(\"Enter the name user name: \" )\n",
        "passkeys = int(input(\"Enter the passkey: \"))\n",
        "code_word = input(\"Enter the code word\")\n",
        "if name == \"joe\":\n",
        "  if passkeys == 4735:\n",
        "    if code_word == \"hi\":\n",
        "      print(\"Open the door\")"
      ],
      "metadata": {
        "colab": {
          "base_uri": "https://localhost:8080/"
        },
        "id": "cP6XbwLE1IRG",
        "outputId": "16a347ad-2d3d-4c3a-b147-64e3a2b2b55f"
      },
      "execution_count": 1,
      "outputs": [
        {
          "output_type": "stream",
          "name": "stdout",
          "text": [
            "Enter the name user name: joe\n",
            "Enter the passkey: 4735\n",
            "Enter the code wordhi\n",
            "Open the door\n"
          ]
        }
      ]
    },
    {
      "cell_type": "code",
      "source": [
        "\n",
        "#while cond:\n",
        " #statement\n",
        "n = 0\n",
        "while (n < 3):\n",
        "  print(\"hi\")\n",
        "  n = n+1\n",
        "\n",
        "\n"
      ],
      "metadata": {
        "colab": {
          "base_uri": "https://localhost:8080/"
        },
        "id": "bgF-FNEI-cf8",
        "outputId": "bec8a43c-359e-4f1d-b2a2-16c6aafb5e1f"
      },
      "execution_count": 6,
      "outputs": [
        {
          "output_type": "stream",
          "name": "stdout",
          "text": [
            "hi\n",
            "hi\n",
            "hi\n"
          ]
        }
      ]
    },
    {
      "cell_type": "code",
      "source": [
        "#nested for loop\n",
        "phones = [\"redmi\", \"realme\", \"xiami\"]\n",
        "colores = [\"black\", \"red\", \"wite\"]\n",
        "for i in phones:\n",
        "  for j in colores:\n",
        "    print(i,j)"
      ],
      "metadata": {
        "colab": {
          "base_uri": "https://localhost:8080/"
        },
        "id": "Tdyu4zJyBYSY",
        "outputId": "6ecc196d-dbaf-4449-edcc-d9f29e949841"
      },
      "execution_count": 9,
      "outputs": [
        {
          "output_type": "stream",
          "name": "stdout",
          "text": [
            "redmi black\n",
            "redmi red\n",
            "redmi wite\n",
            "realme black\n",
            "realme red\n",
            "realme wite\n",
            "xiami black\n",
            "xiami red\n",
            "xiami wite\n"
          ]
        }
      ]
    },
    {
      "cell_type": "code",
      "source": [
        "#while loop with else statement\n",
        "n = 0\n",
        "while (n < 3):\n",
        "  print(\"hi\")\n",
        "  n = n+1\n",
        "else:\n",
        "    print(\"over\")\n"
      ],
      "metadata": {
        "colab": {
          "base_uri": "https://localhost:8080/"
        },
        "id": "vmow1yY2CXVz",
        "outputId": "a8e5ea01-2021-4796-f535-a83339534a70"
      },
      "execution_count": 10,
      "outputs": [
        {
          "output_type": "stream",
          "name": "stdout",
          "text": [
            "hi\n",
            "hi\n",
            "hi\n",
            "over\n"
          ]
        }
      ]
    },
    {
      "cell_type": "code",
      "source": [
        "# nested list compension\n",
        "li = [87, 77, 67, 88]\n",
        "lc1 = [\"A+\" if mark>90 else \"A\" if mark>80 else \"B\"  for mark in li]\n",
        "lc1\n"
      ],
      "metadata": {
        "colab": {
          "base_uri": "https://localhost:8080/"
        },
        "id": "uGdL5li-EaF4",
        "outputId": "219d8794-5f0e-45cf-d0c5-b48efd74ba13"
      },
      "execution_count": 16,
      "outputs": [
        {
          "output_type": "execute_result",
          "data": {
            "text/plain": [
              "['A', 'B', 'B', 'A']"
            ]
          },
          "metadata": {},
          "execution_count": 16
        }
      ]
    }
  ]
}