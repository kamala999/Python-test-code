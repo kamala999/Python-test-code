{
  "nbformat": 4,
  "nbformat_minor": 0,
  "metadata": {
    "colab": {
      "provenance": [],
      "authorship_tag": "ABX9TyMcBzFZxnHd/oVSGJa8oCYD",
      "include_colab_link": true
    },
    "kernelspec": {
      "name": "python3",
      "display_name": "Python 3"
    },
    "language_info": {
      "name": "python"
    }
  },
  "cells": [
    {
      "cell_type": "markdown",
      "metadata": {
        "id": "view-in-github",
        "colab_type": "text"
      },
      "source": [
        "<a href=\"https://colab.research.google.com/github/kamala999/Python-test-code/blob/main/Untitled1.ipynb\" target=\"_parent\"><img src=\"https://colab.research.google.com/assets/colab-badge.svg\" alt=\"Open In Colab\"/></a>"
      ]
    },
    {
      "cell_type": "code",
      "execution_count": 2,
      "metadata": {
        "colab": {
          "base_uri": "https://localhost:8080/"
        },
        "id": "-nSsWBLOhiXg",
        "outputId": "3cac7213-306b-4485-eb2a-2c866705603f"
      },
      "outputs": [
        {
          "output_type": "stream",
          "name": "stdout",
          "text": [
            "60.5\n",
            "<class 'float'>\n",
            "False\n",
            "<class 'bool'>\n"
          ]
        }
      ],
      "source": [
        "#create flots, flots meant just disemble numbers like 1.5, 2.5, 10.5\n",
        "wight = 60.5\n",
        "print(wight)\n",
        "print(type(wight))\n",
        "\n",
        "#boolean illustration\n",
        "a = 30\n",
        "b = 45\n",
        "c = a>b\n",
        "print(c)\n",
        "print(type(c))"
      ]
    }
  ]
}