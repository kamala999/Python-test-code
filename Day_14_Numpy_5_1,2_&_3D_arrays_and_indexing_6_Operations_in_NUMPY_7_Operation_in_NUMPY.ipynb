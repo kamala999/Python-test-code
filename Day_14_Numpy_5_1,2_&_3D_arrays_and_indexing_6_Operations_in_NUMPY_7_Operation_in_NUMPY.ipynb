{
  "nbformat": 4,
  "nbformat_minor": 0,
  "metadata": {
    "colab": {
      "provenance": [],
      "authorship_tag": "ABX9TyOrXlshdZy/HXp/Evbs58wy",
      "include_colab_link": true
    },
    "kernelspec": {
      "name": "python3",
      "display_name": "Python 3"
    },
    "language_info": {
      "name": "python"
    }
  },
  "cells": [
    {
      "cell_type": "markdown",
      "metadata": {
        "id": "view-in-github",
        "colab_type": "text"
      },
      "source": [
        "<a href=\"https://colab.research.google.com/github/kamala999/Python-test-code/blob/main/Day_14_Numpy_5_1%2C2_%26_3D_arrays_and_indexing_6_Operations_in_NUMPY_7_Operation_in_NUMPY.ipynb\" target=\"_parent\"><img src=\"https://colab.research.google.com/assets/colab-badge.svg\" alt=\"Open In Colab\"/></a>"
      ]
    },
    {
      "cell_type": "code",
      "execution_count": 2,
      "metadata": {
        "id": "9fL1ir2BR4Ir"
      },
      "outputs": [],
      "source": [
        "import numpy as np"
      ]
    },
    {
      "cell_type": "code",
      "source": [
        "#linespace\n",
        "A = np.linspace(0.11,2.2,8) #start, end, numbers\n",
        "print(A)\n",
        "# 0.11 and 2.2 in between 8 numbers spliting arange  will print with common difrence\n"
      ],
      "metadata": {
        "colab": {
          "base_uri": "https://localhost:8080/"
        },
        "id": "kMWL7jmtXD1H",
        "outputId": "b7bd2153-8d41-427b-c8ff-1961768cfb1c"
      },
      "execution_count": null,
      "outputs": [
        {
          "output_type": "stream",
          "name": "stdout",
          "text": [
            "[0.11       0.40857143 0.70714286 1.00571429 1.30428571 1.60285714\n",
            " 1.90142857 2.2       ]\n"
          ]
        }
      ]
    },
    {
      "cell_type": "code",
      "source": [
        "maths:"
      ],
      "metadata": {
        "id": "JiwhZ506YO2T"
      },
      "execution_count": null,
      "outputs": []
    },
    {
      "cell_type": "code",
      "source": [
        "A = np.array([3,1,5,6])\n",
        "B = np.array([5,8,9,1])\n",
        "\n",
        "print(A-B)\n",
        "print(A+B)\n"
      ],
      "metadata": {
        "colab": {
          "base_uri": "https://localhost:8080/"
        },
        "id": "D8oL3EO7YPB1",
        "outputId": "73abf537-2d01-4454-de4b-89ff589f4066"
      },
      "execution_count": null,
      "outputs": [
        {
          "output_type": "stream",
          "name": "stdout",
          "text": [
            "[-2 -7 -4  5]\n",
            "[ 8  9 14  7]\n"
          ]
        }
      ]
    },
    {
      "cell_type": "code",
      "source": [
        "A = np.array([[2,3],[5,7]])\n",
        "B = np.array([[1,9],[4,2]])\n",
        "\n",
        "print(A)\n",
        "print(B)"
      ],
      "metadata": {
        "colab": {
          "base_uri": "https://localhost:8080/"
        },
        "id": "0wc8AbOZaBGo",
        "outputId": "8c4e4f88-280a-45db-a420-bbd2482bb375"
      },
      "execution_count": null,
      "outputs": [
        {
          "output_type": "stream",
          "name": "stdout",
          "text": [
            "[[2 3]\n",
            " [5 7]]\n",
            "[[1 9]\n",
            " [4 2]]\n"
          ]
        }
      ]
    },
    {
      "cell_type": "code",
      "source": [
        "print(A@B)#matrics maltiplication\n",
        "# this is multiplicatin matrics like 2*1+3*4=14,2*9+3*2=24,5*1+7*4=33,5*9+7*2=59"
      ],
      "metadata": {
        "colab": {
          "base_uri": "https://localhost:8080/"
        },
        "id": "siaq-YNPau_m",
        "outputId": "e0534a03-eccc-4d9b-d6c2-239279f0c257"
      },
      "execution_count": null,
      "outputs": [
        {
          "output_type": "stream",
          "name": "stdout",
          "text": [
            "[[14 24]\n",
            " [33 59]]\n"
          ]
        }
      ]
    },
    {
      "cell_type": "code",
      "source": [
        "print(A*B)#vector multiplication"
      ],
      "metadata": {
        "colab": {
          "base_uri": "https://localhost:8080/"
        },
        "id": "MeG9zuoYcLQ1",
        "outputId": "ff296eee-1011-45b3-b961-24108461cf84"
      },
      "execution_count": null,
      "outputs": [
        {
          "output_type": "stream",
          "name": "stdout",
          "text": [
            "[[ 2 27]\n",
            " [20 14]]\n"
          ]
        }
      ]
    },
    {
      "cell_type": "code",
      "source": [
        "print(A.sum())"
      ],
      "metadata": {
        "colab": {
          "base_uri": "https://localhost:8080/"
        },
        "id": "zA1AaLhjcqCc",
        "outputId": "ca1fae06-1360-47fa-afb3-74aad8e24ede"
      },
      "execution_count": null,
      "outputs": [
        {
          "output_type": "stream",
          "name": "stdout",
          "text": [
            "17\n"
          ]
        }
      ]
    },
    {
      "cell_type": "code",
      "source": [
        "A = np.array([[2,3],[5,7]])\n",
        "B = np.array([[1,9],[4,2]])\n",
        "print(A)\n",
        "print(B)\n",
        "print(\"this is sum of A\")\n",
        "print(A.sum())\n",
        "print(\"this is sum of A colom wiae\")\n",
        "#Axis=0 for coloms, and Axis=1 for rows\n",
        "print(A.sum(axis=0)) #colom wise added\n",
        "print(\"this is sum of A row wise\")\n",
        "print(A.sum(axis=1)) #row wise added"
      ],
      "metadata": {
        "colab": {
          "base_uri": "https://localhost:8080/"
        },
        "id": "eH9G6QPKdUWX",
        "outputId": "fb5b70c4-95a2-4ff1-e546-9a4e22bc7972"
      },
      "execution_count": null,
      "outputs": [
        {
          "output_type": "stream",
          "name": "stdout",
          "text": [
            "[[2 3]\n",
            " [5 7]]\n",
            "[[1 9]\n",
            " [4 2]]\n",
            "this is sum of A\n",
            "17\n",
            "this is sum of A colom wiae\n",
            "[ 7 10]\n",
            "this is sum of A row wise\n",
            "[ 5 12]\n"
          ]
        }
      ]
    },
    {
      "cell_type": "code",
      "source": [
        "A = np.array([[2,3],[5,7]])\n",
        "B = np.array([[1,9],[4,2]])\n",
        "print(A)\n",
        "print(B)\n",
        "print(\"this print the max of number in A \")\n",
        "print(A.max())\n",
        "print(\"this print the max of number colom wise in A \")\n",
        "print(A.max(axis=0))\n",
        "print(\"this print the max of number row wise in A \")\n",
        "print(A.max(axis=1))\n"
      ],
      "metadata": {
        "colab": {
          "base_uri": "https://localhost:8080/"
        },
        "id": "voziNNYMq9T8",
        "outputId": "e1bf204b-3907-4da6-b8a7-0b3759d72aa8"
      },
      "execution_count": null,
      "outputs": [
        {
          "output_type": "stream",
          "name": "stdout",
          "text": [
            "[[2 3]\n",
            " [5 7]]\n",
            "[[1 9]\n",
            " [4 2]]\n",
            "this print the max of number in A \n",
            "7\n",
            "this print the max of number colom wise in A \n",
            "[5 7]\n",
            "this print the max of number row wise in A \n",
            "[3 7]\n"
          ]
        }
      ]
    },
    {
      "cell_type": "code",
      "source": [
        "A = np.array([[2,3],[5,7]])\n",
        "B = np.array([[1,9],[4,2]])\n",
        "print(A)\n",
        "print(B)\n",
        "print(\"this print the max of number in A \")\n",
        "print(A.min())\n",
        "print(\"this print the max of number colom wise in A \")\n",
        "print(A.min(axis=0))\n",
        "print(\"this print the max of number row wise in A \")\n",
        "print(A.min(axis=1))"
      ],
      "metadata": {
        "colab": {
          "base_uri": "https://localhost:8080/"
        },
        "id": "4n-kstQesOBP",
        "outputId": "5dd17ec9-aaec-4efa-c67d-3336bd611437"
      },
      "execution_count": null,
      "outputs": [
        {
          "output_type": "stream",
          "name": "stdout",
          "text": [
            "[[2 3]\n",
            " [5 7]]\n",
            "[[1 9]\n",
            " [4 2]]\n",
            "this print the max of number in A \n",
            "2\n",
            "this print the max of number colom wise in A \n",
            "[2 3]\n",
            "this print the max of number row wise in A \n",
            "[2 5]\n"
          ]
        }
      ]
    },
    {
      "cell_type": "code",
      "source": [
        "A = np.array([[2,3],[5,7]])\n",
        "B = np.array([[1,9],[4,2]])\n",
        "print(A)\n",
        "print(\"cumilative sum:\")\n",
        "print(A.cumsum()) #2,3,5,7 ==> 2, 2+3=5, 2+3+5=10, 2+3+5+7=17"
      ],
      "metadata": {
        "colab": {
          "base_uri": "https://localhost:8080/"
        },
        "id": "qXFkZy7RsoMy",
        "outputId": "e0534bb4-e7b1-4009-af8d-871a757258e9"
      },
      "execution_count": null,
      "outputs": [
        {
          "output_type": "stream",
          "name": "stdout",
          "text": [
            "[[2 3]\n",
            " [5 7]]\n",
            "cumilative sum:\n",
            "[ 2  5 10 17]\n"
          ]
        }
      ]
    },
    {
      "cell_type": "code",
      "source": [
        "A = np.array([[2,3],[5,7]])\n",
        "B = np.array([[1,9],[4,2]])\n",
        "print(A)\n",
        "print(\"cumilative prod:\")\n",
        "print(A.cumprod()) #2,3,5,7 ==> 2, 2*3=6, 2*3*5=30, 2*3*5*7=210"
      ],
      "metadata": {
        "colab": {
          "base_uri": "https://localhost:8080/"
        },
        "id": "ASOgXIPmvt2t",
        "outputId": "5b855f45-5260-4e07-b297-e2397b9ab90f"
      },
      "execution_count": null,
      "outputs": [
        {
          "output_type": "stream",
          "name": "stdout",
          "text": [
            "[[2 3]\n",
            " [5 7]]\n",
            "cumilative prod:\n",
            "[  2   6  30 210]\n"
          ]
        }
      ]
    },
    {
      "cell_type": "code",
      "source": [
        "ar1 = np.array([14,23,58,78])\n",
        "ar2 = np.array([45,88,91,24])\n",
        "np.add(ar1,ar2)"
      ],
      "metadata": {
        "colab": {
          "base_uri": "https://localhost:8080/"
        },
        "id": "05X2U2TX0lgp",
        "outputId": "4bc70949-b3c6-4197-b67d-6f7c762ae8ba"
      },
      "execution_count": null,
      "outputs": [
        {
          "output_type": "execute_result",
          "data": {
            "text/plain": [
              "array([ 59, 111, 149, 102])"
            ]
          },
          "metadata": {},
          "execution_count": 18
        }
      ]
    },
    {
      "cell_type": "code",
      "source": [
        "ar1 = np.array([14,23,58,78])\n",
        "ar2 = np.array([45,88,91,24])\n",
        "np.subtract(ar1,ar2)"
      ],
      "metadata": {
        "colab": {
          "base_uri": "https://localhost:8080/"
        },
        "id": "MTcXHjoQ1Q7q",
        "outputId": "cc2cfca3-0f9b-4724-ebea-6e4e360eabb8"
      },
      "execution_count": null,
      "outputs": [
        {
          "output_type": "execute_result",
          "data": {
            "text/plain": [
              "array([-31, -65, -33,  54])"
            ]
          },
          "metadata": {},
          "execution_count": 19
        }
      ]
    },
    {
      "cell_type": "code",
      "source": [
        "ar1 = np.array([14,23,58,78])\n",
        "ar2 = np.array([45,88,91,24])\n",
        "np.multiply(ar1,ar2)"
      ],
      "metadata": {
        "colab": {
          "base_uri": "https://localhost:8080/"
        },
        "id": "nqJKQlSf1a65",
        "outputId": "054696f2-558c-426e-a77b-7ae3066d2402"
      },
      "execution_count": null,
      "outputs": [
        {
          "output_type": "execute_result",
          "data": {
            "text/plain": [
              "array([ 630, 2024, 5278, 1872])"
            ]
          },
          "metadata": {},
          "execution_count": 22
        }
      ]
    },
    {
      "cell_type": "code",
      "source": [
        "ar1 = np.array([14,23,58,78])\n",
        "ar2 = np.array([45,88,91,24])\n",
        "np.divide(ar1,ar2)"
      ],
      "metadata": {
        "colab": {
          "base_uri": "https://localhost:8080/"
        },
        "id": "ICGRK6Q_1n_J",
        "outputId": "04a5d6ed-9878-4442-be21-434089764e7e"
      },
      "execution_count": 3,
      "outputs": [
        {
          "output_type": "execute_result",
          "data": {
            "text/plain": [
              "array([0.31111111, 0.26136364, 0.63736264, 3.25      ])"
            ]
          },
          "metadata": {},
          "execution_count": 3
        }
      ]
    },
    {
      "cell_type": "code",
      "source": [
        "ar1 = np.array([14,23,58,78])\n",
        "ar2 = np.array([4,2,4,2])\n",
        "np.mod(ar1,ar2)"
      ],
      "metadata": {
        "colab": {
          "base_uri": "https://localhost:8080/"
        },
        "id": "0Ur8yaWvms9B",
        "outputId": "dde43136-30ad-4134-99b3-da2bc25bea0c"
      },
      "execution_count": 5,
      "outputs": [
        {
          "output_type": "execute_result",
          "data": {
            "text/plain": [
              "array([2, 1, 2, 0])"
            ]
          },
          "metadata": {},
          "execution_count": 5
        }
      ]
    },
    {
      "cell_type": "code",
      "source": [
        "ar1 = np.array([14,23,58,78])\n",
        "ar2 = np.array([4,2,4,2])\n",
        "np.divmod(ar1,ar2)"
      ],
      "metadata": {
        "colab": {
          "base_uri": "https://localhost:8080/"
        },
        "id": "qOMrG4aTno6U",
        "outputId": "b01e07ad-fc22-45e9-96a0-06e7088e08fa"
      },
      "execution_count": 7,
      "outputs": [
        {
          "output_type": "execute_result",
          "data": {
            "text/plain": [
              "(array([ 3, 11, 14, 39]), array([2, 1, 2, 0]))"
            ]
          },
          "metadata": {},
          "execution_count": 7
        }
      ]
    },
    {
      "cell_type": "code",
      "source": [
        "#sorting and serching\n",
        "A = np.array(['mango','banana','appil','grape','strawbarry','orange'])\n",
        "print(np.sort(A))"
      ],
      "metadata": {
        "colab": {
          "base_uri": "https://localhost:8080/"
        },
        "id": "f03VbpRtuc7Z",
        "outputId": "aafafeda-75b7-4164-cc0f-bce2e71199a3"
      },
      "execution_count": 3,
      "outputs": [
        {
          "output_type": "stream",
          "name": "stdout",
          "text": [
            "['appil' 'banana' 'grape' 'mango' 'orange' 'strawbarry']\n"
          ]
        }
      ]
    },
    {
      "cell_type": "code",
      "source": [
        "sr = np.array([22,44,33,45,68,77,87,100])\n",
        "ind = np.where(sr%4 == 0)\n",
        "print(ind)"
      ],
      "metadata": {
        "colab": {
          "base_uri": "https://localhost:8080/"
        },
        "id": "Qd43MxMcqXBd",
        "outputId": "1869be4a-61dd-4366-a10c-f361f904911e"
      },
      "execution_count": 6,
      "outputs": [
        {
          "output_type": "stream",
          "name": "stdout",
          "text": [
            "(array([1, 4, 7]),)\n"
          ]
        }
      ]
    },
    {
      "cell_type": "code",
      "source": [
        "sr = np.array([22,44,33,45,68,77,87,100])\n",
        "ind = np.where(sr%4 == 0)\n",
        "print(ind)\n",
        "\n",
        "sr[ind]"
      ],
      "metadata": {
        "colab": {
          "base_uri": "https://localhost:8080/"
        },
        "id": "xvJM9cqurKDX",
        "outputId": "e28c20a1-de80-4b9d-dd0c-37d0be7bc9ee"
      },
      "execution_count": 8,
      "outputs": [
        {
          "output_type": "stream",
          "name": "stdout",
          "text": [
            "(array([1, 4, 7]),)\n"
          ]
        },
        {
          "output_type": "execute_result",
          "data": {
            "text/plain": [
              "array([ 44,  68, 100])"
            ]
          },
          "metadata": {},
          "execution_count": 8
        }
      ]
    },
    {
      "cell_type": "code",
      "source": [
        "names = np.array([\"kamal\",\"vijay\",\"srinu\",\"rami\",\"lakshmi\",\"vasantha\"])\n",
        "ind = np.where(names == 'lakshmi')\n",
        "print(ind)"
      ],
      "metadata": {
        "colab": {
          "base_uri": "https://localhost:8080/"
        },
        "id": "NEX_nxc-uuLq",
        "outputId": "94ad9bd0-bc48-4c90-8569-ed2f04c42413"
      },
      "execution_count": 9,
      "outputs": [
        {
          "output_type": "stream",
          "name": "stdout",
          "text": [
            "(array([4]),)\n"
          ]
        }
      ]
    },
    {
      "cell_type": "code",
      "source": [
        "arn = np.array([35,34,21,25,45,52,66])\n",
        "ind = np.where(arn > 25)\n",
        "print(ind)\n",
        "arn[ind]"
      ],
      "metadata": {
        "colab": {
          "base_uri": "https://localhost:8080/"
        },
        "id": "auIdd-pCv-Tn",
        "outputId": "557158ab-609e-427d-c33d-696d83d4e7a7"
      },
      "execution_count": 12,
      "outputs": [
        {
          "output_type": "stream",
          "name": "stdout",
          "text": [
            "(array([0, 1, 4, 5, 6]),)\n"
          ]
        },
        {
          "output_type": "execute_result",
          "data": {
            "text/plain": [
              "array([35, 34, 45, 52, 66])"
            ]
          },
          "metadata": {},
          "execution_count": 12
        }
      ]
    },
    {
      "cell_type": "code",
      "source": [
        "#Rounding functions\n",
        "#trunc will print with out .\n",
        "\n",
        "ro = np.array([3.6, 9.1])\n",
        "rn = np.array([-3.6, -9.1])\n",
        "print(np.trunc(ro))\n",
        "print(np.trunc(rn))"
      ],
      "metadata": {
        "colab": {
          "base_uri": "https://localhost:8080/"
        },
        "id": "peD7xENBw8WA",
        "outputId": "e669d4bb-b237-40b8-8f55-5e046f93ce5f"
      },
      "execution_count": 14,
      "outputs": [
        {
          "output_type": "stream",
          "name": "stdout",
          "text": [
            "[3. 9.]\n",
            "[-3. -9.]\n"
          ]
        }
      ]
    },
    {
      "cell_type": "code",
      "source": [
        "#Rounding functions\n",
        "#trunc will print with out .\n",
        "#around will print the correct nummbers with near by like 5.1 = 5, 5.7 =6,\n",
        "\n",
        "ro = np.array([3.6, 9.1])\n",
        "rn = np.array([-3.6, -9.1])\n",
        "print(np.around(ro))\n",
        "print(np.around(rn))"
      ],
      "metadata": {
        "colab": {
          "base_uri": "https://localhost:8080/"
        },
        "id": "4yH5OzP-z9_r",
        "outputId": "9c40bd84-be2f-44c0-8e51-74c1c9efee9d"
      },
      "execution_count": 15,
      "outputs": [
        {
          "output_type": "stream",
          "name": "stdout",
          "text": [
            "[4. 9.]\n",
            "[-4. -9.]\n"
          ]
        }
      ]
    },
    {
      "cell_type": "code",
      "source": [
        "#ceil will convert the Maximum values near by that value\n",
        "ro = np.array([3.6, 9.1])\n",
        "rn = np.array([-3.6, -9.1])\n",
        "print(np.ceil(ro))\n",
        "print(np.ceil(rn))"
      ],
      "metadata": {
        "colab": {
          "base_uri": "https://localhost:8080/"
        },
        "id": "8g_WBLKn1Jh9",
        "outputId": "21630056-4d6d-4193-f78e-295c51086fc5"
      },
      "execution_count": 16,
      "outputs": [
        {
          "output_type": "stream",
          "name": "stdout",
          "text": [
            "[ 4. 10.]\n",
            "[-3. -9.]\n"
          ]
        }
      ]
    },
    {
      "cell_type": "code",
      "source": [
        "#floor will convert the minimum values near by that value\n",
        "ro = np.array([3.6, 9.1])\n",
        "rn = np.array([-3.6, -9.1])\n",
        "print(np.floor(ro))\n",
        "print(np.floor(rn))"
      ],
      "metadata": {
        "colab": {
          "base_uri": "https://localhost:8080/"
        },
        "id": "ywvUvPJ-1kKf",
        "outputId": "812b82fa-58e2-40e0-df8f-c5e8086e87f8"
      },
      "execution_count": 17,
      "outputs": [
        {
          "output_type": "stream",
          "name": "stdout",
          "text": [
            "[3. 9.]\n",
            "[ -4. -10.]\n"
          ]
        }
      ]
    },
    {
      "cell_type": "code",
      "source": [
        "#using user-defining function to add array\n",
        "#formula\n",
        "# def funname:\n",
        "   #statement\n",
        "#np.frompyfunc(funname,inputs,outputs)\n",
        "def ad(a,b):\n",
        "   print(a+b)\n",
        "\n",
        "m = np.frompyfunc(ad,2,1)\n",
        "print(m([2,3],[4,5]))\n"
      ],
      "metadata": {
        "colab": {
          "base_uri": "https://localhost:8080/"
        },
        "id": "hhX7RSLJ2D5v",
        "outputId": "870d4568-e9f5-43fd-9f4a-c5ef9bdc08c8"
      },
      "execution_count": 26,
      "outputs": [
        {
          "output_type": "stream",
          "name": "stdout",
          "text": [
            "6\n",
            "8\n",
            "[None None]\n"
          ]
        }
      ]
    },
    {
      "cell_type": "code",
      "source": [
        "def name(a,b):\n",
        "   print(a,\".\",b)\n",
        "\n",
        "n = np.frompyfunc(name,2,1)\n",
        "print(n([\"kamal\",\"vijay\"],[\"k\",\"s\"]))\n"
      ],
      "metadata": {
        "colab": {
          "base_uri": "https://localhost:8080/"
        },
        "id": "1P8N4_0v70nz",
        "outputId": "83ef6899-149d-47c5-cee1-8b07eacce3db"
      },
      "execution_count": 25,
      "outputs": [
        {
          "output_type": "stream",
          "name": "stdout",
          "text": [
            "kamal . k\n",
            "vijay . s\n",
            "[None None]\n"
          ]
        }
      ]
    }
  ]
}