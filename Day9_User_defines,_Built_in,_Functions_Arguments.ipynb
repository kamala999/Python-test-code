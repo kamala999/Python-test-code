{
  "nbformat": 4,
  "nbformat_minor": 0,
  "metadata": {
    "colab": {
      "provenance": [],
      "authorship_tag": "ABX9TyPs3zKAaQEzgw1XmVLPP6wG",
      "include_colab_link": true
    },
    "kernelspec": {
      "name": "python3",
      "display_name": "Python 3"
    },
    "language_info": {
      "name": "python"
    }
  },
  "cells": [
    {
      "cell_type": "markdown",
      "metadata": {
        "id": "view-in-github",
        "colab_type": "text"
      },
      "source": [
        "<a href=\"https://colab.research.google.com/github/kamala999/Python-test-code/blob/main/Day9_User_defines%2C_Built_in%2C_Functions_Arguments.ipynb\" target=\"_parent\"><img src=\"https://colab.research.google.com/assets/colab-badge.svg\" alt=\"Open In Colab\"/></a>"
      ]
    },
    {
      "cell_type": "code",
      "execution_count": 1,
      "metadata": {
        "colab": {
          "base_uri": "https://localhost:8080/"
        },
        "id": "IyvbVslA4jBt",
        "outputId": "3bb170b8-ab78-4c0e-9915-840c01841143"
      },
      "outputs": [
        {
          "output_type": "stream",
          "name": "stdout",
          "text": [
            "hello,world\n"
          ]
        }
      ],
      "source": [
        "#basic finctions with out arguments\n",
        "def greeatings():\n",
        "    print(\"hello,world\")\n",
        "greeatings()"
      ]
    },
    {
      "cell_type": "code",
      "source": [
        "#greeatings() is a function we can use or call it any were\n",
        "a = \"ramu\"\n",
        "print(a)\n",
        "\n",
        "greeatings()"
      ],
      "metadata": {
        "colab": {
          "base_uri": "https://localhost:8080/"
        },
        "id": "8ifpq3ByGFLs",
        "outputId": "7484e964-ca83-4026-873a-3d6b70eab412"
      },
      "execution_count": 3,
      "outputs": [
        {
          "output_type": "stream",
          "name": "stdout",
          "text": [
            "ramu\n",
            "hello,world\n"
          ]
        }
      ]
    },
    {
      "cell_type": "code",
      "source": [
        "#Basic function with one argument\n",
        "def greeatings(name):\n",
        "    print(\"hello,world\", name)\n",
        "greeatings(\"jwalitha reddy\")\n",
        "greeatings(\"kamalhasan\")"
      ],
      "metadata": {
        "colab": {
          "base_uri": "https://localhost:8080/"
        },
        "id": "Dd1uEEQXHX7o",
        "outputId": "858522f4-1358-4d90-9c25-beb0c012c749"
      },
      "execution_count": 4,
      "outputs": [
        {
          "output_type": "stream",
          "name": "stdout",
          "text": [
            "hello,world jwalitha reddy\n",
            "hello,world kamalhasan\n"
          ]
        }
      ]
    },
    {
      "cell_type": "code",
      "source": [
        "#Basic function with multiple arguments\n",
        "def addi(a,b,c):\n",
        "    s = a+b+c\n",
        "    print(\"sum is a\", s)\n",
        "\n",
        "addi(20,30,92)"
      ],
      "metadata": {
        "colab": {
          "base_uri": "https://localhost:8080/"
        },
        "id": "Msr02qR1PCUG",
        "outputId": "d71407ee-85ac-40f8-ce54-4a115710d882"
      },
      "execution_count": 9,
      "outputs": [
        {
          "output_type": "stream",
          "name": "stdout",
          "text": [
            "sum is a 142\n"
          ]
        }
      ]
    },
    {
      "cell_type": "code",
      "source": [
        "# create a functions with revers of a sentences!\n",
        "def wrev(sent):\n",
        "  print(sent [::-1])\n",
        "\n",
        "wrev(\"today is festivel in india\")"
      ],
      "metadata": {
        "colab": {
          "base_uri": "https://localhost:8080/"
        },
        "id": "DEqwmAiOTh8E",
        "outputId": "456b132d-4bfd-4912-a9f6-d74882dc000a"
      },
      "execution_count": 10,
      "outputs": [
        {
          "output_type": "stream",
          "name": "stdout",
          "text": [
            "aidni ni levitsef si yadot\n"
          ]
        }
      ]
    },
    {
      "cell_type": "code",
      "source": [
        "#Here's a simple Python function to check if a string is a palindrome:\n",
        "def pal(w):\n",
        "   if w == w [::-1]:\n",
        "     print(\"palindrome\")\n",
        "   else:\n",
        "     print(\"not palindrome\")\n",
        "\n",
        "pal(\"kamal\")\n",
        "pal(\"rececer\")"
      ],
      "metadata": {
        "colab": {
          "base_uri": "https://localhost:8080/"
        },
        "id": "LM-SAwTaBxEi",
        "outputId": "d3a481c0-1fe4-455b-f6a9-f5da25c6a893"
      },
      "execution_count": 12,
      "outputs": [
        {
          "output_type": "stream",
          "name": "stdout",
          "text": [
            "not palindrome\n",
            "palindrome\n"
          ]
        }
      ]
    },
    {
      "cell_type": "code",
      "source": [
        "#keyword arguments\n",
        "def n(name, initial):\n",
        "   print(initial,\"\",name)\n",
        "\n",
        "n(initial=\"s\",name=\"kamal\")\n"
      ],
      "metadata": {
        "colab": {
          "base_uri": "https://localhost:8080/"
        },
        "id": "hi-RY_CUIaNg",
        "outputId": "d964c330-fe9f-4136-a983-88493b9bf3e7"
      },
      "execution_count": 20,
      "outputs": [
        {
          "output_type": "stream",
          "name": "stdout",
          "text": [
            "s  kamal\n"
          ]
        }
      ]
    },
    {
      "cell_type": "code",
      "source": [
        "#default arguments\n",
        "def tax(sal,tax=0.1):\n",
        "    print(\"my salary is\", sal*tax)\n",
        "\n",
        "\n",
        "tax(78500.00)\n",
        ""
      ],
      "metadata": {
        "colab": {
          "base_uri": "https://localhost:8080/"
        },
        "id": "1fYd_bmpJ54L",
        "outputId": "8ae0a9ba-2f80-43a1-cef4-846f2dc40dbc"
      },
      "execution_count": 23,
      "outputs": [
        {
          "output_type": "stream",
          "name": "stdout",
          "text": [
            "my salary is 7850.0\n"
          ]
        }
      ]
    },
    {
      "cell_type": "code",
      "source": [
        "#excuteing functions for muliple arguments in one shot\n",
        "def greet(*name):\n",
        "  for i in name:\n",
        "    print(\"hello my name is \", i)\n",
        "\n",
        "greet(\"kamal\", \"siva\", \"raja\", \"srinu\", \"mahesh\", \"gunashekar\")"
      ],
      "metadata": {
        "colab": {
          "base_uri": "https://localhost:8080/"
        },
        "id": "xHv0pCF4Osuo",
        "outputId": "87b3bae8-2ffa-4e08-b690-121ee1c16ee6"
      },
      "execution_count": 30,
      "outputs": [
        {
          "output_type": "stream",
          "name": "stdout",
          "text": [
            "hello my name is  kamal\n",
            "hello my name is  siva\n",
            "hello my name is  raja\n",
            "hello my name is  srinu\n",
            "hello my name is  mahesh\n",
            "hello my name is  gunashekar\n"
          ]
        }
      ]
    },
    {
      "cell_type": "code",
      "source": [
        "#Disply the temprecher\n",
        "def dis(*temp):\n",
        "   for i in (temp):\n",
        "    print( \"today temp is\", i, \"C\")\n",
        "\n",
        "dis(25,27,29,30, 32)"
      ],
      "metadata": {
        "colab": {
          "base_uri": "https://localhost:8080/"
        },
        "id": "gfxeGzKfSAvN",
        "outputId": "18a63bfc-c7ac-4a3d-8e6f-9017bf04f126"
      },
      "execution_count": 32,
      "outputs": [
        {
          "output_type": "stream",
          "name": "stdout",
          "text": [
            "today temp is 25 C\n",
            "today temp is 27 C\n",
            "today temp is 29 C\n",
            "today temp is 30 C\n",
            "today temp is 32 C\n"
          ]
        }
      ]
    },
    {
      "cell_type": "code",
      "source": [
        "#One degree C =33.8F #F means fahrenheit\n",
        "def degtof(*temp):\n",
        "   for i in temp:\n",
        "    f = i*33.8\n",
        "    print(i, \"c is\", f, \"fahrenheit\")\n",
        "\n",
        "degtof(28,30,31,33,37,)"
      ],
      "metadata": {
        "colab": {
          "base_uri": "https://localhost:8080/"
        },
        "id": "eEKNr3WZS8-u",
        "outputId": "e50ac7f2-ec30-4934-9e5e-96731c6de231"
      },
      "execution_count": 33,
      "outputs": [
        {
          "output_type": "stream",
          "name": "stdout",
          "text": [
            "28 c is 946.3999999999999 fahrenheit\n",
            "30 c is 1013.9999999999999 fahrenheit\n",
            "31 c is 1047.8 fahrenheit\n",
            "33 c is 1115.3999999999999 fahrenheit\n",
            "37 c is 1250.6 fahrenheit\n"
          ]
        }
      ]
    },
    {
      "cell_type": "code",
      "source": [
        "#One degree C =33.8F #F\\K means fahrenheit\\Kelvin\n",
        "def degtok(*temp):\n",
        "   for i in temp:\n",
        "    k = i*274.15\n",
        "    print(i, \"c is\", k, \"kelvin\")\n",
        "\n",
        "degtok(28,30,31,33,37,)"
      ],
      "metadata": {
        "colab": {
          "base_uri": "https://localhost:8080/"
        },
        "id": "h2NU8X_xVxfy",
        "outputId": "48592772-6cc8-4289-8b88-6135064eb7b4"
      },
      "execution_count": 36,
      "outputs": [
        {
          "output_type": "stream",
          "name": "stdout",
          "text": [
            "28 c is 7676.199999999999 kelvin\n",
            "30 c is 8224.5 kelvin\n",
            "31 c is 8498.65 kelvin\n",
            "33 c is 9046.949999999999 kelvin\n",
            "37 c is 10143.55 kelvin\n"
          ]
        }
      ]
    },
    {
      "cell_type": "code",
      "source": [
        "#built-in functions\n",
        "#sum, prod, div, divmod, diff, zip like have more built-in function lt's use it now\n",
        "a = (222,333,444,555,666)\n",
        "b = (2,3,4,5,6)\n",
        "print(sum(a))\n",
        "print(sum(b))\n",
        "print(sum(a+b))\n"
      ],
      "metadata": {
        "colab": {
          "base_uri": "https://localhost:8080/"
        },
        "id": "qBvq4cweZPVZ",
        "outputId": "66d720d3-aa42-42ec-f2ad-1951920416b8"
      },
      "execution_count": 42,
      "outputs": [
        {
          "output_type": "stream",
          "name": "stdout",
          "text": [
            "2220\n",
            "20\n",
            "2240\n"
          ]
        }
      ]
    }
  ]
}