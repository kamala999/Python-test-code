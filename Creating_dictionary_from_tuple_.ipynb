{
  "nbformat": 4,
  "nbformat_minor": 0,
  "metadata": {
    "colab": {
      "provenance": [],
      "authorship_tag": "ABX9TyMuRtaCM26UzFXg7vvzAhf8",
      "include_colab_link": true
    },
    "kernelspec": {
      "name": "python3",
      "display_name": "Python 3"
    },
    "language_info": {
      "name": "python"
    }
  },
  "cells": [
    {
      "cell_type": "markdown",
      "metadata": {
        "id": "view-in-github",
        "colab_type": "text"
      },
      "source": [
        "<a href=\"https://colab.research.google.com/github/kamala999/Python-test-code/blob/main/Creating_dictionary_from_tuple_.ipynb\" target=\"_parent\"><img src=\"https://colab.research.google.com/assets/colab-badge.svg\" alt=\"Open In Colab\"/></a>"
      ]
    },
    {
      "cell_type": "code",
      "execution_count": 3,
      "metadata": {
        "colab": {
          "base_uri": "https://localhost:8080/"
        },
        "id": "yUkXf7y0I7Sj",
        "outputId": "d526a1af-5108-4ffa-fb8d-e9af7516903e"
      },
      "outputs": [
        {
          "output_type": "stream",
          "name": "stdout",
          "text": [
            "{1: ('kamal', 'rama', 'venkey', 'srinu'), 2: ('kamal', 'rama', 'venkey', 'srinu'), 3: ('kamal', 'rama', 'venkey', 'srinu'), 4: ('kamal', 'rama', 'venkey', 'srinu')}\n"
          ]
        }
      ],
      "source": [
        "#Creating dictionary from tuple\n",
        "tl = (1,2,3,4)\n",
        "val = (\"kamal\",\"rama\",\"venkey\",\"srinu\")\n",
        "dictdc= dict.fromkeys(tl,val)\n",
        "print(dictdc)"
      ]
    },
    {
      "cell_type": "code",
      "source": [
        "#i need to  assigened tl 1 to val 1 sequencly\n",
        "tl = (1,2,3,4)\n",
        "val = (\"kamal\",\"rama\",\"venkey\",\"srinu\")\n",
        "dictdc= dict(zip(tl,val))\n",
        "print(dictdc)"
      ],
      "metadata": {
        "colab": {
          "base_uri": "https://localhost:8080/"
        },
        "id": "eEDdjEZrMO7v",
        "outputId": "de3c5b28-e1d5-405b-d214-43334ecaa544"
      },
      "execution_count": 5,
      "outputs": [
        {
          "output_type": "stream",
          "name": "stdout",
          "text": [
            "{1: 'kamal', 2: 'rama', 3: 'venkey', 4: 'srinu'}\n"
          ]
        }
      ]
    },
    {
      "cell_type": "code",
      "source": [
        "# same i can excute like using list [] also\n",
        "tl = [1,2,3,4]\n",
        "val = [\"kamal\",\"rama\",\"venkey\",\"srinu\"]\n",
        "dictdc1= dict(zip(tl,val))\n",
        "print(dictdc1)"
      ],
      "metadata": {
        "colab": {
          "base_uri": "https://localhost:8080/"
        },
        "id": "J6ghx01wNa--",
        "outputId": "287a3d3b-0bb7-4c34-dcb2-ee4270f2c422"
      },
      "execution_count": 6,
      "outputs": [
        {
          "output_type": "stream",
          "name": "stdout",
          "text": [
            "{1: 'kamal', 2: 'rama', 3: 'venkey', 4: 'srinu'}\n"
          ]
        }
      ]
    }
  ]
}