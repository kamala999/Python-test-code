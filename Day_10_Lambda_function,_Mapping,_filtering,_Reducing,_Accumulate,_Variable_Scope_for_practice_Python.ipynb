{
  "nbformat": 4,
  "nbformat_minor": 0,
  "metadata": {
    "colab": {
      "provenance": [],
      "authorship_tag": "ABX9TyPpaI3duWVTzMhqiaBpq0wA",
      "include_colab_link": true
    },
    "kernelspec": {
      "name": "python3",
      "display_name": "Python 3"
    },
    "language_info": {
      "name": "python"
    }
  },
  "cells": [
    {
      "cell_type": "markdown",
      "metadata": {
        "id": "view-in-github",
        "colab_type": "text"
      },
      "source": [
        "<a href=\"https://colab.research.google.com/github/kamala999/Python-test-code/blob/main/Day_10_Lambda_function%2C_Mapping%2C_filtering%2C_Reducing%2C_Accumulate%2C_Variable_Scope_for_practice_Python.ipynb\" target=\"_parent\"><img src=\"https://colab.research.google.com/assets/colab-badge.svg\" alt=\"Open In Colab\"/></a>"
      ]
    },
    {
      "cell_type": "code",
      "execution_count": 4,
      "metadata": {
        "colab": {
          "base_uri": "https://localhost:8080/"
        },
        "id": "UhHwnu1HTv6K",
        "outputId": "38a85aca-f073-49a8-c203-3d7525da9918"
      },
      "outputs": [
        {
          "output_type": "stream",
          "name": "stdout",
          "text": [
            "4\n"
          ]
        }
      ],
      "source": [
        "#Normal Python code\n",
        "def fun (x,y):\n",
        "   if (x>y):\n",
        "    return x\n",
        "   else:\n",
        "    return y\n",
        "print(fun(3,4))"
      ]
    },
    {
      "cell_type": "code",
      "source": [
        "#Normal Python code\n",
        "def fun (x,y):\n",
        "   if (x<y):\n",
        "    return x\n",
        "   else:\n",
        "    return y\n",
        "print(fun(3,4))"
      ],
      "metadata": {
        "colab": {
          "base_uri": "https://localhost:8080/"
        },
        "id": "GXwmRsLZUs9q",
        "outputId": "1d77afc7-9a53-4ecc-c986-7cd749752a74"
      },
      "execution_count": 5,
      "outputs": [
        {
          "output_type": "stream",
          "name": "stdout",
          "text": [
            "3\n"
          ]
        }
      ]
    },
    {
      "cell_type": "code",
      "source": [
        "#the genaral method shown on the left  can also be rewrite using lambda\n",
        "fun = lambda x,y:x if x>y else y\n",
        "print(fun(3,4))"
      ],
      "metadata": {
        "colab": {
          "base_uri": "https://localhost:8080/"
        },
        "id": "c8XLruLGU-Ha",
        "outputId": "f2790415-c574-4fc6-9313-2073e7c4f328"
      },
      "execution_count": 6,
      "outputs": [
        {
          "output_type": "stream",
          "name": "stdout",
          "text": [
            "4\n"
          ]
        }
      ]
    },
    {
      "cell_type": "code",
      "source": [
        "fun = lambda x,y:x if x<y else y\n",
        "print(fun(3,4))"
      ],
      "metadata": {
        "colab": {
          "base_uri": "https://localhost:8080/"
        },
        "id": "9tpYmF2oVtvs",
        "outputId": "d655c1c9-dfac-4888-a5c9-b884289defdc"
      },
      "execution_count": 7,
      "outputs": [
        {
          "output_type": "stream",
          "name": "stdout",
          "text": [
            "3\n"
          ]
        }
      ]
    },
    {
      "cell_type": "code",
      "source": [
        "#lambda creation way #function_name = lambda_keyword next arguments: and statement\n",
        "#lambda creation\n",
        "myadd = lambda a,b,c: a+b+c\n",
        "#now function calling\n",
        "myadd(1,2,3)"
      ],
      "metadata": {
        "colab": {
          "base_uri": "https://localhost:8080/"
        },
        "id": "zRetcEZnWwjr",
        "outputId": "05ff2564-8de7-4b6d-e5ab-91cc920d8a90"
      },
      "execution_count": 8,
      "outputs": [
        {
          "output_type": "execute_result",
          "data": {
            "text/plain": [
              "6"
            ]
          },
          "metadata": {},
          "execution_count": 8
        }
      ]
    },
    {
      "cell_type": "code",
      "source": [
        "\n",
        "#normal funcation\n",
        "def passed(mark):\n",
        "    if mark>=35:\n",
        "       print(\"pass\")\n",
        "    else:\n",
        "       print(\"fail\")\n",
        "passed(27)"
      ],
      "metadata": {
        "colab": {
          "base_uri": "https://localhost:8080/"
        },
        "id": "DmubIVlZXqro",
        "outputId": "9a82fd1b-87f6-4998-ce4c-3a3fcb169e52"
      },
      "execution_count": 15,
      "outputs": [
        {
          "output_type": "stream",
          "name": "stdout",
          "text": [
            "fail\n"
          ]
        }
      ]
    },
    {
      "cell_type": "code",
      "source": [
        "#normal funcation\n",
        "def passed(mark):\n",
        "    if mark>=35:\n",
        "       print(\"pass\")\n",
        "    else:\n",
        "       print(\"fail\")\n",
        "passed(40)"
      ],
      "metadata": {
        "colab": {
          "base_uri": "https://localhost:8080/"
        },
        "id": "fbM7naefabpW",
        "outputId": "673b6095-3a81-49dd-fd22-e4493a02dc11"
      },
      "execution_count": 16,
      "outputs": [
        {
          "output_type": "stream",
          "name": "stdout",
          "text": [
            "pass\n"
          ]
        }
      ]
    },
    {
      "cell_type": "code",
      "source": [
        "\n",
        "#above function write through by lambda #The lambda creation way\n",
        "#function_name = lambda_keyword next arguments: and statement\n",
        "passed1 = lambda mark: \"pass\" if mark>=35 else \"faile\"\n",
        "print(passed1(90))\n"
      ],
      "metadata": {
        "colab": {
          "base_uri": "https://localhost:8080/"
        },
        "id": "Y7oX1uvBalmS",
        "outputId": "6df79c18-fe50-46a7-dab2-ac4612eaf0cd"
      },
      "execution_count": 21,
      "outputs": [
        {
          "output_type": "stream",
          "name": "stdout",
          "text": [
            "pass\n"
          ]
        }
      ]
    },
    {
      "cell_type": "code",
      "source": [
        "#above function write through by lambda #The lambda creation way\n",
        "#function_name = lambda_keyword next arguments: and statement\n",
        "passed1 = lambda mark: \"pass\" if mark>=35 else \"faile\"\n",
        "print(passed1(30))"
      ],
      "metadata": {
        "colab": {
          "base_uri": "https://localhost:8080/"
        },
        "id": "1uMcFan5crWr",
        "outputId": "c457df05-d092-4cb8-a881-a7ea941b5ba8"
      },
      "execution_count": 22,
      "outputs": [
        {
          "output_type": "stream",
          "name": "stdout",
          "text": [
            "faile\n"
          ]
        }
      ]
    },
    {
      "cell_type": "code",
      "source": [
        "#narmar function using list\n",
        "def sq():\n",
        "  a = [5,15,25,35]\n",
        "  for i in a:\n",
        "       print(i*i)\n",
        "\n",
        "sq()"
      ],
      "metadata": {
        "colab": {
          "base_uri": "https://localhost:8080/"
        },
        "id": "X2vbQJkXeGJW",
        "outputId": "e1e17473-ae7c-4626-f8b6-449b1e62947a"
      },
      "execution_count": 2,
      "outputs": [
        {
          "output_type": "stream",
          "name": "stdout",
          "text": [
            "25\n",
            "225\n",
            "625\n",
            "1225\n"
          ]
        }
      ]
    },
    {
      "cell_type": "code",
      "source": [
        "#map() is itaratter in lambda same above script writing in lambda function\n",
        "# defing way is #map(lambda exprition, sequence like a list)\n",
        "a = [5,15,25,35]\n",
        "sq = list(map(lambda i: i*i, a ))\n",
        "print(sq)"
      ],
      "metadata": {
        "colab": {
          "base_uri": "https://localhost:8080/"
        },
        "id": "aEbVcXdqdXFG",
        "outputId": "d3baaf6e-fb3f-43b6-e55c-31c3653fee39"
      },
      "execution_count": 3,
      "outputs": [
        {
          "output_type": "stream",
          "name": "stdout",
          "text": [
            "[25, 225, 625, 1225]\n"
          ]
        }
      ]
    },
    {
      "cell_type": "code",
      "source": [
        "#Even numbers!\n",
        "# 2,4,6,8------\n",
        "#when divide by 2, we will get 0 remainder\n",
        "n = int(input(\"Enter the numbers\"))\n",
        "if n%2 ==0:\n",
        "  print(\"even number\")\n",
        "else:\n",
        "    print(\"odd number\")"
      ],
      "metadata": {
        "colab": {
          "base_uri": "https://localhost:8080/"
        },
        "id": "u0U4nzU9aY3L",
        "outputId": "9b9e17f7-6abc-4c32-8521-30c81cb8f12a"
      },
      "execution_count": 4,
      "outputs": [
        {
          "output_type": "stream",
          "name": "stdout",
          "text": [
            "Enter the numbers33\n",
            "odd number\n"
          ]
        }
      ]
    },
    {
      "cell_type": "code",
      "source": [
        "#Even numbers!\n",
        "# 2,4,6,8------\n",
        "#when divide by 2, we will get 0 remainder\n",
        "n = int(input(\"Enter the numbers\"))\n",
        "if n%2 ==0:\n",
        "  print(\"even number\")\n",
        "else:\n",
        "    print(\"odd number\")\n",
        ""
      ],
      "metadata": {
        "colab": {
          "base_uri": "https://localhost:8080/"
        },
        "id": "UrP2GSkAbYUO",
        "outputId": "bbbdb3db-199f-46be-fa4e-0805d58698d5"
      },
      "execution_count": 5,
      "outputs": [
        {
          "output_type": "stream",
          "name": "stdout",
          "text": [
            "Enter the numbers44\n",
            "even number\n"
          ]
        }
      ]
    },
    {
      "cell_type": "code",
      "source": [
        "#using the lambda functions we can find even numbers from the list\n",
        "#by using filtter function of lambda #for that using the fillter formula\n",
        "#function_name = list(filtter(lambda argument: condition, listname))\n",
        "a = [35,44,66,78,88,99,67]\n",
        "nu = list(filter(lambda a: a%2 ==0, a))\n",
        "print(nu)"
      ],
      "metadata": {
        "colab": {
          "base_uri": "https://localhost:8080/"
        },
        "id": "0S33Aq7bcUYF",
        "outputId": "daa57f57-709c-45c8-874a-9eecd2ee2738"
      },
      "execution_count": 14,
      "outputs": [
        {
          "output_type": "stream",
          "name": "stdout",
          "text": [
            "[44, 66, 78, 88]\n"
          ]
        }
      ]
    },
    {
      "cell_type": "code",
      "source": [
        "#using reduce function in lambda for that formula code\n",
        "#reduce(lambda argument: statemnt,sequence)\n",
        "# reduce is the functiontools package so we need to import\n",
        "d = [3,5,8,10]\n",
        "from functools import reduce\n",
        "results1 = reduce(lambda a,b: a+b, d)\n",
        "print(results1)\n"
      ],
      "metadata": {
        "colab": {
          "base_uri": "https://localhost:8080/"
        },
        "id": "kAFROFm7lMt1",
        "outputId": "d9e7d6ce-775f-4fc2-cccb-f024fa3f0f97"
      },
      "execution_count": 17,
      "outputs": [
        {
          "output_type": "stream",
          "name": "stdout",
          "text": [
            "26\n"
          ]
        }
      ]
    },
    {
      "cell_type": "code",
      "source": [
        "from functools import reduce\n",
        "\n",
        "d = [3, 5, 8, 10]\n",
        "results2 = reduce(lambda a, b: a * b, d)\n",
        "print(results2)  # Output: 1200 (3 * 5 * 8 * 10)\n"
      ],
      "metadata": {
        "colab": {
          "base_uri": "https://localhost:8080/"
        },
        "id": "19taU--doXLF",
        "outputId": "ddce472c-7edd-4c31-c519-65ec5c18cb5c"
      },
      "execution_count": 19,
      "outputs": [
        {
          "output_type": "stream",
          "name": "stdout",
          "text": [
            "1200\n"
          ]
        }
      ]
    },
    {
      "cell_type": "code",
      "source": [
        "t =[1,2,5,-1,6,-10,11,]\n",
        "result3 = reduce(lambda a,b: a if a>b else b, t)\n",
        "print(result3)## Output: 11 (maximum value in the list)"
      ],
      "metadata": {
        "colab": {
          "base_uri": "https://localhost:8080/"
        },
        "id": "gpGo4sr3vosy",
        "outputId": "d457a3ae-2969-474b-88eb-cc4ef8bd3e64"
      },
      "execution_count": 21,
      "outputs": [
        {
          "output_type": "stream",
          "name": "stdout",
          "text": [
            "11\n"
          ]
        }
      ]
    },
    {
      "cell_type": "code",
      "source": [
        "t =[1,2,5,-1,6,-10,11,]\n",
        "result3 = reduce(lambda a,b: a if a<b else b, t)\n",
        "print(result3)## Output: -10 (maximum value in the list)"
      ],
      "metadata": {
        "colab": {
          "base_uri": "https://localhost:8080/"
        },
        "id": "USmW-o69wufX",
        "outputId": "fe56c958-ddd1-4de5-a829-876dc908b229"
      },
      "execution_count": 22,
      "outputs": [
        {
          "output_type": "stream",
          "name": "stdout",
          "text": [
            "-10\n"
          ]
        }
      ]
    },
    {
      "cell_type": "code",
      "source": [
        "from functools import reduce\n",
        "\n",
        "d = [3, 5, 8, 10]\n",
        "max_value = reduce(lambda a, b: a if a > b else b, d)\n",
        "print(max_value)  # Output: 10 (maximum value in the list)\n"
      ],
      "metadata": {
        "colab": {
          "base_uri": "https://localhost:8080/"
        },
        "id": "KJNh-Mf8xECs",
        "outputId": "a5505513-3229-40d2-c47d-6238b490e01f"
      },
      "execution_count": 23,
      "outputs": [
        {
          "output_type": "stream",
          "name": "stdout",
          "text": [
            "10\n"
          ]
        }
      ]
    },
    {
      "cell_type": "code",
      "source": [
        "#accumulate function by using lambda\n",
        "from itertools import accumulate\n",
        "numb = [1,2,3,4,5,6,7,8,9,10]\n",
        "acmlt = tuple(accumulate(numb, lambda a,b: a+b))\n",
        "print(acmlt)"
      ],
      "metadata": {
        "colab": {
          "base_uri": "https://localhost:8080/"
        },
        "id": "G0SJFSBQzTQJ",
        "outputId": "5d52ae87-2673-46d2-ebe8-dd0e99ea2118"
      },
      "execution_count": 29,
      "outputs": [
        {
          "output_type": "stream",
          "name": "stdout",
          "text": [
            "(1, 3, 6, 10, 15, 21, 28, 36, 45, 55)\n"
          ]
        }
      ]
    },
    {
      "cell_type": "code",
      "source": [
        "#accumulate function by using lambda\n",
        "from itertools import accumulate\n",
        "numb = [1,2,3,4,5,6,7,8,9,10]\n",
        "acmlt = tuple(accumulate(numb, lambda a,b: a*b))\n",
        "print(acmlt)"
      ],
      "metadata": {
        "colab": {
          "base_uri": "https://localhost:8080/"
        },
        "id": "PUOlnoRJ02eb",
        "outputId": "bac7a898-40c7-4193-9d4c-36d1eb51980c"
      },
      "execution_count": 30,
      "outputs": [
        {
          "output_type": "stream",
          "name": "stdout",
          "text": [
            "(1, 2, 6, 24, 120, 720, 5040, 40320, 362880, 3628800)\n"
          ]
        }
      ]
    }
  ]
}