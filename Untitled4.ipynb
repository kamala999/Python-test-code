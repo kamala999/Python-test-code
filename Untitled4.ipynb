{
  "nbformat": 4,
  "nbformat_minor": 0,
  "metadata": {
    "colab": {
      "provenance": [],
      "authorship_tag": "ABX9TyPxgHKSH2LaudlkZloevO/C",
      "include_colab_link": true
    },
    "kernelspec": {
      "name": "python3",
      "display_name": "Python 3"
    },
    "language_info": {
      "name": "python"
    }
  },
  "cells": [
    {
      "cell_type": "markdown",
      "metadata": {
        "id": "view-in-github",
        "colab_type": "text"
      },
      "source": [
        "<a href=\"https://colab.research.google.com/github/kamala999/Python-test-code/blob/main/Untitled4.ipynb\" target=\"_parent\"><img src=\"https://colab.research.google.com/assets/colab-badge.svg\" alt=\"Open In Colab\"/></a>"
      ]
    },
    {
      "cell_type": "code",
      "source": [
        "#concatiting with type costing\n",
        "a = 25\n",
        "print(\"my age is\" +  str(a))"
      ],
      "metadata": {
        "colab": {
          "base_uri": "https://localhost:8080/"
        },
        "id": "tRRoNhlvBWqC",
        "outputId": "8f3e30c6-3743-4485-8e28-12ac689e9beb"
      },
      "execution_count": 21,
      "outputs": [
        {
          "output_type": "stream",
          "name": "stdout",
          "text": [
            "my age is25\n"
          ]
        }
      ]
    },
    {
      "cell_type": "code",
      "source": [
        "#using integer (int),strings(str)call the user input datas\n",
        "a = input(\"enter your age: \")\n",
        "print(\"my age is\", a, \"s\")"
      ],
      "metadata": {
        "colab": {
          "base_uri": "https://localhost:8080/"
        },
        "id": "0ZjrtdwlHxoD",
        "outputId": "322bf18d-5590-4f98-f7ae-2cec7f2a19f1"
      },
      "execution_count": 22,
      "outputs": [
        {
          "output_type": "stream",
          "name": "stdout",
          "text": [
            "enter your age: 21\n",
            "my age is 21 s\n"
          ]
        }
      ]
    },
    {
      "cell_type": "code",
      "source": [
        "#using integer (int),strings(str)call the user input datas same time we shold know the type also\n",
        "a = input(\"enter your age: \")\n",
        "print(type(a))\n",
        "print(\"my age is\", a, \"s\")"
      ],
      "metadata": {
        "colab": {
          "base_uri": "https://localhost:8080/"
        },
        "id": "NjS1TyofIi1d",
        "outputId": "488376d3-69bd-4822-fd48-8ef688b50e13"
      },
      "execution_count": 24,
      "outputs": [
        {
          "output_type": "stream",
          "name": "stdout",
          "text": [
            "enter your age: 25\n",
            "<class 'str'>\n",
            "my age is 25 s\n"
          ]
        }
      ]
    },
    {
      "cell_type": "code",
      "source": [
        "#a is sring user i want age 5 yers and get out put 30 so i need to pass the int(integet keyword)\n",
        "a = int(input(\"enter your age: \"))\n",
        "print(type(a))\n",
        "print(\"my age is\", a+5, \"s\")\n"
      ],
      "metadata": {
        "colab": {
          "base_uri": "https://localhost:8080/"
        },
        "id": "U2MZVryJJGc6",
        "outputId": "53646d66-dde5-4b33-8525-70dfef22253d"
      },
      "execution_count": 26,
      "outputs": [
        {
          "output_type": "stream",
          "name": "stdout",
          "text": [
            "enter your age: 25\n",
            "<class 'int'>\n",
            "my age is 30 s\n"
          ]
        }
      ]
    }
  ]
}